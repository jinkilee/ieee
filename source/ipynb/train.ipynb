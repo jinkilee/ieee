{
 "cells": [
  {
   "cell_type": "code",
   "execution_count": 1,
   "metadata": {},
   "outputs": [],
   "source": [
    "import sys\n",
    "sys.path.insert(0, '../')"
   ]
  },
  {
   "cell_type": "code",
   "execution_count": 2,
   "metadata": {},
   "outputs": [],
   "source": [
    "import os\n",
    "import numpy as np\n",
    "import pandas as pd\n",
    "from sklearn import preprocessing\n",
    "import xgboost as xgb\n",
    "import matplotlib.pyplot as plt\n",
    "import seaborn as sns\n",
    "import random\n",
    "import catboost as cb\n",
    "import lightgbm as lgb\n",
    "import gc\n",
    "import pickle\n",
    "from tqdm import tqdm\n",
    "from columns import count_cols, card_cols, match_cols\n",
    "from feature import make_categorical_feature_v3, make_categorical_feature_v4\n",
    "from utils import df_size, reduce_mem_usage_sd\n",
    "from columns import nonull_vxxx_cols\n",
    "from catboost import CatBoostClassifier,Pool\n",
    "from sklearn.model_selection import KFold\n",
    "from sklearn.metrics import roc_auc_score\n",
    "from utils import feature_test"
   ]
  },
  {
   "cell_type": "code",
   "execution_count": 3,
   "metadata": {},
   "outputs": [],
   "source": [
    "seed = 10\n",
    "np.random.seed(seed)\n",
    "random.seed(seed)\n",
    "os.environ['PYTHONHASHSEED'] = str(seed)\n",
    "np.random.seed(seed)"
   ]
  },
  {
   "cell_type": "markdown",
   "metadata": {},
   "source": [
    "### read data"
   ]
  },
  {
   "cell_type": "code",
   "execution_count": 4,
   "metadata": {},
   "outputs": [],
   "source": [
    "sample_submission = pd.read_csv('/data/ieee/sample_submission.csv.zip', index_col='TransactionID', compression='zip')"
   ]
  },
  {
   "cell_type": "code",
   "execution_count": 5,
   "metadata": {},
   "outputs": [
    {
     "name": "stderr",
     "output_type": "stream",
     "text": [
      "/usr/local/lib/python3.5/dist-packages/IPython/core/interactiveshell.py:2728: DtypeWarning: Columns (415,419) have mixed types. Specify dtype option on import or set low_memory=False.\n",
      "  interactivity=interactivity, compiler=compiler, result=result)\n",
      "/usr/local/lib/python3.5/dist-packages/IPython/core/interactiveshell.py:2728: DtypeWarning: Columns (414,418) have mixed types. Specify dtype option on import or set low_memory=False.\n",
      "  interactivity=interactivity, compiler=compiler, result=result)\n"
     ]
    }
   ],
   "source": [
    "if False:\n",
    "#     train_transaction = pd.read_csv('/data/ieee/train_transaction.csv.zip', index_col='TransactionID', compression='zip')\n",
    "#     test_transaction = pd.read_csv('/data/ieee/test_transaction.csv.zip', index_col='TransactionID', compression='zip')\n",
    "#     train_identity = pd.read_csv('/data/ieee/train_identity.csv.zip', index_col='TransactionID', compression='zip')\n",
    "#     test_identity = pd.read_csv('/data/ieee/test_identity.csv.zip', index_col='TransactionID', compression='zip')\n",
    "    train_transaction = pd.read_csv('/data/ieee/train_transaction_sample.csv', index_col='TransactionID')\n",
    "    test_transaction = pd.read_csv('/data/ieee/test_transaction_sample.csv', index_col='TransactionID')\n",
    "    train_identity = pd.read_csv('/data/ieee/train_identity_sample.csv', index_col='TransactionID')\n",
    "    test_identity = pd.read_csv('/data/ieee/test_identity_sample.csv', index_col='TransactionID')\n",
    "    \n",
    "    train_df = train_transaction.merge(train_identity, how='left', left_index=True, right_index=True)\n",
    "    test_df = test_transaction.merge(test_identity, how='left', left_index=True, right_index=True)\n",
    "    del train_transaction, train_identity, test_transaction, test_identity\n",
    "    ### do only this one\n",
    "    train_df, test_df = make_categorical_feature_v4(train_df, test_df)\n",
    "else:\n",
    "    train_df = pd.read_csv('/data/ieee/train_preprocessed_v5.csv')\n",
    "    test_df = pd.read_csv('/data/ieee/test_preprocessed_v5.csv')"
   ]
  },
  {
   "cell_type": "code",
   "execution_count": 6,
   "metadata": {},
   "outputs": [
    {
     "data": {
      "text/plain": [
       "((590540, 571), (506691, 570))"
      ]
     },
     "execution_count": 6,
     "metadata": {},
     "output_type": "execute_result"
    }
   ],
   "source": [
    "train_df.shape, test_df.shape"
   ]
  },
  {
   "cell_type": "markdown",
   "metadata": {},
   "source": [
    "#### additional feature engineering"
   ]
  },
  {
   "cell_type": "code",
   "execution_count": 7,
   "metadata": {},
   "outputs": [],
   "source": [
    "train_df['os_productcd'] = train_df['os'] + '_' + train_df['ProductCD']\n",
    "test_df['os_productcd'] = test_df['os'] + '_' + test_df['ProductCD']"
   ]
  },
  {
   "cell_type": "code",
   "execution_count": 8,
   "metadata": {},
   "outputs": [],
   "source": [
    "# global_fraud_rate = train_df.isFraud.mean()\n",
    "# global_fraud_entropy = train_df['isFraud'].value_counts(normalize=True).apply(lambda x: x*np.log(1/x)).sum()\n",
    "# global_fraud_rate, global_fraud_entropy"
   ]
  },
  {
   "cell_type": "code",
   "execution_count": 9,
   "metadata": {},
   "outputs": [],
   "source": [
    "# majority_of_fraud_df = []\n",
    "# for c in str_categorical_features + int_categorical_features + merged_features:\n",
    "#     majority_idx = train_df.groupby(c)['isFraud'].mean().sort_values(ascending=False) > (global_fraud_rate*3)\n",
    "#     rate = (majority_idx).mean()\n",
    "#     unique = (majority_idx).shape[0]\n",
    "#     majority_of_fraud_df.append({'column':c, 'unique':unique, 'majority':rate})\n",
    "# majority_of_fraud_df = pd.DataFrame(majority_of_fraud_df)[['column','unique','majority']]"
   ]
  },
  {
   "cell_type": "markdown",
   "metadata": {},
   "source": [
    "#### reduce dataframe size"
   ]
  },
  {
   "cell_type": "code",
   "execution_count": 10,
   "metadata": {},
   "outputs": [
    {
     "data": {
      "text/plain": [
       "Counter({'float64': 524, 'int64': 16, 'object': 32})"
      ]
     },
     "execution_count": 10,
     "metadata": {},
     "output_type": "execute_result"
    }
   ],
   "source": [
    "df_size(train_df)"
   ]
  },
  {
   "cell_type": "code",
   "execution_count": 11,
   "metadata": {},
   "outputs": [
    {
     "name": "stderr",
     "output_type": "stream",
     "text": [
      "100%|██████████| 572/572 [03:52<00:00,  2.46it/s]\n"
     ]
    },
    {
     "name": "stdout",
     "output_type": "stream",
     "text": [
      "Mem. usage decreased from 3327.71 Mb to 1829.08 Mb (45.0% reduction)\n"
     ]
    },
    {
     "name": "stderr",
     "output_type": "stream",
     "text": [
      "100%|██████████| 571/571 [03:14<00:00,  2.93it/s]\n"
     ]
    },
    {
     "name": "stdout",
     "output_type": "stream",
     "text": [
      "Mem. usage decreased from 2859.12 Mb to 1615.31 Mb (43.5% reduction)\n",
      "CPU times: user 4min 10s, sys: 3min 28s, total: 7min 39s\n",
      "Wall time: 7min 37s\n"
     ]
    }
   ],
   "source": [
    "%%time\n",
    "# From kernel https://www.kaggle.com/gemartin/load-data-reduce-memory-usage\n",
    "# WARNING! THIS CAN DAMAGE THE DATA \n",
    "\n",
    "train_df = reduce_mem_usage_sd(train_df)\n",
    "test_df = reduce_mem_usage_sd(test_df)"
   ]
  },
  {
   "cell_type": "code",
   "execution_count": 12,
   "metadata": {},
   "outputs": [
    {
     "data": {
      "text/plain": [
       "Counter({'float16': 312,\n",
       "         'float32': 150,\n",
       "         'float64': 48,\n",
       "         'int16': 15,\n",
       "         'int32': 2,\n",
       "         'int8': 13,\n",
       "         'object': 32})"
      ]
     },
     "execution_count": 12,
     "metadata": {},
     "output_type": "execute_result"
    }
   ],
   "source": [
    "df_size(train_df)"
   ]
  },
  {
   "cell_type": "code",
   "execution_count": 13,
   "metadata": {},
   "outputs": [],
   "source": [
    "# train_df.to_csv('/data/ieee/train_preprocessed_v6.csv.zip', index=False, compression='zip')\n",
    "# test_df.to_csv('/data/ieee/test_preprocessed_v6.csv.zip', index=False, compression='zip')"
   ]
  },
  {
   "cell_type": "code",
   "execution_count": 14,
   "metadata": {},
   "outputs": [],
   "source": [
    "def get_too_many_null_features(data):\n",
    "    many_null_cols = [col for col in data.columns if data[col].isnull().mean() > 0.9]\n",
    "    return many_null_cols"
   ]
  },
  {
   "cell_type": "code",
   "execution_count": 16,
   "metadata": {},
   "outputs": [
    {
     "data": {
      "text/plain": [
       "['dist2',\n",
       " 'D7',\n",
       " 'id_07',\n",
       " 'id_08',\n",
       " 'id_18',\n",
       " 'id_21',\n",
       " 'id_22',\n",
       " 'id_23',\n",
       " 'id_24',\n",
       " 'id_25',\n",
       " 'id_26',\n",
       " 'id_27']"
      ]
     },
     "execution_count": 16,
     "metadata": {},
     "output_type": "execute_result"
    }
   ],
   "source": [
    "too_many_null_features = get_too_many_null_features(train_df)\n",
    "too_many_null_features = [c for c in too_many_null_features if 'mean' not in c and 'std' not in c]\n",
    "too_many_null_features"
   ]
  },
  {
   "cell_type": "code",
   "execution_count": 17,
   "metadata": {},
   "outputs": [
    {
     "data": {
      "text/plain": [
       "((590540, 560), (506691, 559))"
      ]
     },
     "execution_count": 17,
     "metadata": {},
     "output_type": "execute_result"
    }
   ],
   "source": [
    "train_df = train_df.drop(columns=too_many_null_features)\n",
    "test_df = test_df.drop(columns=too_many_null_features)\n",
    "train_df.shape, test_df.shape"
   ]
  },
  {
   "cell_type": "code",
   "execution_count": 18,
   "metadata": {},
   "outputs": [],
   "source": [
    "def get_too_many_repeated_values(data):\n",
    "    big_top_value_cols = [col for col in data.columns if data[col].value_counts(dropna=False, normalize=True).values[0] > 0.9]\n",
    "    return big_top_value_cols"
   ]
  },
  {
   "cell_type": "code",
   "execution_count": 20,
   "metadata": {},
   "outputs": [
    {
     "data": {
      "text/plain": [
       "['C3',\n",
       " 'V98',\n",
       " 'V101',\n",
       " 'V102',\n",
       " 'V103',\n",
       " 'V104',\n",
       " 'V105',\n",
       " 'V106',\n",
       " 'V107',\n",
       " 'V108',\n",
       " 'V109',\n",
       " 'V110',\n",
       " 'V111',\n",
       " 'V112',\n",
       " 'V113',\n",
       " 'V114',\n",
       " 'V115',\n",
       " 'V116',\n",
       " 'V117',\n",
       " 'V118',\n",
       " 'V119',\n",
       " 'V120',\n",
       " 'V121',\n",
       " 'V122',\n",
       " 'V123',\n",
       " 'V124',\n",
       " 'V125',\n",
       " 'V129',\n",
       " 'V132',\n",
       " 'V133',\n",
       " 'V134',\n",
       " 'V135',\n",
       " 'V136',\n",
       " 'V137',\n",
       " 'V281',\n",
       " 'V284',\n",
       " 'V286',\n",
       " 'V290',\n",
       " 'V293',\n",
       " 'V295',\n",
       " 'V296',\n",
       " 'V297',\n",
       " 'V298',\n",
       " 'V299',\n",
       " 'V300',\n",
       " 'V301',\n",
       " 'V305',\n",
       " 'V309',\n",
       " 'V311',\n",
       " 'V316',\n",
       " 'V318',\n",
       " 'V319',\n",
       " 'V320',\n",
       " 'V321']"
      ]
     },
     "execution_count": 20,
     "metadata": {},
     "output_type": "execute_result"
    }
   ],
   "source": [
    "too_many_repeated_value_features = get_too_many_repeated_values(train_df)\n",
    "if 'isFraud' in too_many_repeated_value_features:\n",
    "    too_many_repeated_value_features.remove('isFraud')\n",
    "too_many_repeated_value_features = [c for c in too_many_repeated_value_features if 'mean' not in c and 'std' not in c]\n",
    "too_many_repeated_value_features"
   ]
  },
  {
   "cell_type": "code",
   "execution_count": 21,
   "metadata": {},
   "outputs": [
    {
     "data": {
      "text/plain": [
       "((590540, 506), (506691, 505))"
      ]
     },
     "execution_count": 21,
     "metadata": {},
     "output_type": "execute_result"
    }
   ],
   "source": [
    "train_df = train_df.drop(columns=too_many_repeated_value_features)\n",
    "test_df = test_df.drop(columns=too_many_repeated_value_features)\n",
    "train_df.shape, test_df.shape"
   ]
  },
  {
   "cell_type": "code",
   "execution_count": 22,
   "metadata": {},
   "outputs": [
    {
     "data": {
      "text/plain": [
       "['isFraud',\n",
       " 'TransactionDT',\n",
       " 'TransactionAmt',\n",
       " 'ProductCD',\n",
       " 'card1',\n",
       " 'card2',\n",
       " 'card3',\n",
       " 'card4',\n",
       " 'card5',\n",
       " 'card6',\n",
       " 'addr1',\n",
       " 'addr2',\n",
       " 'dist1',\n",
       " 'P_emaildomain',\n",
       " 'R_emaildomain',\n",
       " 'C1',\n",
       " 'C2',\n",
       " 'C4',\n",
       " 'C5',\n",
       " 'C6',\n",
       " 'C7',\n",
       " 'C8',\n",
       " 'C9',\n",
       " 'C10',\n",
       " 'C11',\n",
       " 'C12',\n",
       " 'C13',\n",
       " 'C14',\n",
       " 'D1',\n",
       " 'D2',\n",
       " 'D3',\n",
       " 'D4',\n",
       " 'D5',\n",
       " 'D6',\n",
       " 'D8',\n",
       " 'D9',\n",
       " 'D10',\n",
       " 'D11',\n",
       " 'D12',\n",
       " 'D13',\n",
       " 'D14',\n",
       " 'D15',\n",
       " 'M1',\n",
       " 'M2',\n",
       " 'M3',\n",
       " 'M4',\n",
       " 'M5',\n",
       " 'M6',\n",
       " 'M7',\n",
       " 'M8',\n",
       " 'M9',\n",
       " 'V1',\n",
       " 'V2',\n",
       " 'V3',\n",
       " 'V4',\n",
       " 'V5',\n",
       " 'V6',\n",
       " 'V7',\n",
       " 'V8',\n",
       " 'V9',\n",
       " 'V10',\n",
       " 'V11',\n",
       " 'V12',\n",
       " 'V13',\n",
       " 'V14',\n",
       " 'V15',\n",
       " 'V16',\n",
       " 'V17',\n",
       " 'V18',\n",
       " 'V19',\n",
       " 'V20',\n",
       " 'V21',\n",
       " 'V22',\n",
       " 'V23',\n",
       " 'V24',\n",
       " 'V25',\n",
       " 'V26',\n",
       " 'V27',\n",
       " 'V28',\n",
       " 'V29',\n",
       " 'V30',\n",
       " 'V31',\n",
       " 'V32',\n",
       " 'V33',\n",
       " 'V34',\n",
       " 'V35',\n",
       " 'V36',\n",
       " 'V37',\n",
       " 'V38',\n",
       " 'V39',\n",
       " 'V40',\n",
       " 'V41',\n",
       " 'V42',\n",
       " 'V43',\n",
       " 'V44',\n",
       " 'V45',\n",
       " 'V46',\n",
       " 'V47',\n",
       " 'V48',\n",
       " 'V49',\n",
       " 'V50',\n",
       " 'V51',\n",
       " 'V52',\n",
       " 'V53',\n",
       " 'V54',\n",
       " 'V55',\n",
       " 'V56',\n",
       " 'V57',\n",
       " 'V58',\n",
       " 'V59',\n",
       " 'V60',\n",
       " 'V61',\n",
       " 'V62',\n",
       " 'V63',\n",
       " 'V64',\n",
       " 'V65',\n",
       " 'V66',\n",
       " 'V67',\n",
       " 'V68',\n",
       " 'V69',\n",
       " 'V70',\n",
       " 'V71',\n",
       " 'V72',\n",
       " 'V73',\n",
       " 'V74',\n",
       " 'V75',\n",
       " 'V76',\n",
       " 'V77',\n",
       " 'V78',\n",
       " 'V79',\n",
       " 'V80',\n",
       " 'V81',\n",
       " 'V82',\n",
       " 'V83',\n",
       " 'V84',\n",
       " 'V85',\n",
       " 'V86',\n",
       " 'V87',\n",
       " 'V88',\n",
       " 'V89',\n",
       " 'V90',\n",
       " 'V91',\n",
       " 'V92',\n",
       " 'V93',\n",
       " 'V94',\n",
       " 'V95',\n",
       " 'V96',\n",
       " 'V97',\n",
       " 'V99',\n",
       " 'V100',\n",
       " 'V126',\n",
       " 'V127',\n",
       " 'V128',\n",
       " 'V130',\n",
       " 'V131',\n",
       " 'V138',\n",
       " 'V139',\n",
       " 'V140',\n",
       " 'V141',\n",
       " 'V142',\n",
       " 'V143',\n",
       " 'V144',\n",
       " 'V145',\n",
       " 'V146',\n",
       " 'V147',\n",
       " 'V148',\n",
       " 'V149',\n",
       " 'V150',\n",
       " 'V151',\n",
       " 'V152',\n",
       " 'V153',\n",
       " 'V154',\n",
       " 'V155',\n",
       " 'V156',\n",
       " 'V157',\n",
       " 'V158',\n",
       " 'V159',\n",
       " 'V160',\n",
       " 'V161',\n",
       " 'V162',\n",
       " 'V163',\n",
       " 'V164',\n",
       " 'V165',\n",
       " 'V166',\n",
       " 'V167',\n",
       " 'V168',\n",
       " 'V169',\n",
       " 'V170',\n",
       " 'V171',\n",
       " 'V172',\n",
       " 'V173',\n",
       " 'V174',\n",
       " 'V175',\n",
       " 'V176',\n",
       " 'V177',\n",
       " 'V178',\n",
       " 'V179',\n",
       " 'V180',\n",
       " 'V181',\n",
       " 'V182',\n",
       " 'V183',\n",
       " 'V184',\n",
       " 'V185',\n",
       " 'V186',\n",
       " 'V187',\n",
       " 'V188',\n",
       " 'V189',\n",
       " 'V190',\n",
       " 'V191',\n",
       " 'V192',\n",
       " 'V193',\n",
       " 'V194',\n",
       " 'V195',\n",
       " 'V196',\n",
       " 'V197',\n",
       " 'V198',\n",
       " 'V199',\n",
       " 'V200',\n",
       " 'V201',\n",
       " 'V202',\n",
       " 'V203',\n",
       " 'V204',\n",
       " 'V205',\n",
       " 'V206',\n",
       " 'V207',\n",
       " 'V208',\n",
       " 'V209',\n",
       " 'V210',\n",
       " 'V211',\n",
       " 'V212',\n",
       " 'V213',\n",
       " 'V214',\n",
       " 'V215',\n",
       " 'V216',\n",
       " 'V217',\n",
       " 'V218',\n",
       " 'V219',\n",
       " 'V220',\n",
       " 'V221',\n",
       " 'V222',\n",
       " 'V223',\n",
       " 'V224',\n",
       " 'V225',\n",
       " 'V226',\n",
       " 'V227',\n",
       " 'V228',\n",
       " 'V229',\n",
       " 'V230',\n",
       " 'V231',\n",
       " 'V232',\n",
       " 'V233',\n",
       " 'V234',\n",
       " 'V235',\n",
       " 'V236',\n",
       " 'V237',\n",
       " 'V238',\n",
       " 'V239',\n",
       " 'V240',\n",
       " 'V241',\n",
       " 'V242',\n",
       " 'V243',\n",
       " 'V244',\n",
       " 'V245',\n",
       " 'V246',\n",
       " 'V247',\n",
       " 'V248',\n",
       " 'V249',\n",
       " 'V250',\n",
       " 'V251',\n",
       " 'V252',\n",
       " 'V253',\n",
       " 'V254',\n",
       " 'V255',\n",
       " 'V256',\n",
       " 'V257',\n",
       " 'V258',\n",
       " 'V259',\n",
       " 'V260',\n",
       " 'V261',\n",
       " 'V262',\n",
       " 'V263',\n",
       " 'V264',\n",
       " 'V265',\n",
       " 'V266',\n",
       " 'V267',\n",
       " 'V268',\n",
       " 'V269',\n",
       " 'V270',\n",
       " 'V271',\n",
       " 'V272',\n",
       " 'V273',\n",
       " 'V274',\n",
       " 'V275',\n",
       " 'V276',\n",
       " 'V277',\n",
       " 'V278',\n",
       " 'V279',\n",
       " 'V280',\n",
       " 'V282',\n",
       " 'V283',\n",
       " 'V285',\n",
       " 'V287',\n",
       " 'V288',\n",
       " 'V289',\n",
       " 'V291',\n",
       " 'V292',\n",
       " 'V294',\n",
       " 'V302',\n",
       " 'V303',\n",
       " 'V304',\n",
       " 'V306',\n",
       " 'V307',\n",
       " 'V308',\n",
       " 'V310',\n",
       " 'V312',\n",
       " 'V313',\n",
       " 'V314',\n",
       " 'V315',\n",
       " 'V317',\n",
       " 'V322',\n",
       " 'V323',\n",
       " 'V324',\n",
       " 'V325',\n",
       " 'V326',\n",
       " 'V327',\n",
       " 'V328',\n",
       " 'V329',\n",
       " 'V330',\n",
       " 'V331',\n",
       " 'V332',\n",
       " 'V333',\n",
       " 'V334',\n",
       " 'V335',\n",
       " 'V336',\n",
       " 'V337',\n",
       " 'V338',\n",
       " 'V339',\n",
       " 'id_01',\n",
       " 'id_02',\n",
       " 'id_03',\n",
       " 'id_04',\n",
       " 'id_05',\n",
       " 'id_06',\n",
       " 'id_09',\n",
       " 'id_10',\n",
       " 'id_11',\n",
       " 'id_12',\n",
       " 'id_13',\n",
       " 'id_14',\n",
       " 'id_15',\n",
       " 'id_16',\n",
       " 'id_17',\n",
       " 'id_19',\n",
       " 'id_20',\n",
       " 'id_28',\n",
       " 'id_29',\n",
       " 'id_30',\n",
       " 'id_31',\n",
       " 'id_32',\n",
       " 'id_33',\n",
       " 'id_34',\n",
       " 'id_35',\n",
       " 'id_36',\n",
       " 'id_37',\n",
       " 'id_38',\n",
       " 'DeviceType',\n",
       " 'DeviceInfo',\n",
       " 'hour',\n",
       " 'weekday',\n",
       " 'os',\n",
       " 'browser',\n",
       " 'device',\n",
       " 'card1_card2',\n",
       " 'card1_productcd',\n",
       " 'card1_id_31',\n",
       " 'card1_id_15',\n",
       " 'card4_DeviceType',\n",
       " 'weekday_hour',\n",
       " 'card1_count',\n",
       " 'card2_count',\n",
       " 'ProductCD_count',\n",
       " 'card1_mean_TransactionAmt',\n",
       " 'card1_std_TransactionAmt',\n",
       " 'card2_mean_TransactionAmt',\n",
       " 'card2_std_TransactionAmt',\n",
       " 'card3_mean_TransactionAmt',\n",
       " 'card3_std_TransactionAmt',\n",
       " 'card5_mean_TransactionAmt',\n",
       " 'card5_std_TransactionAmt',\n",
       " 'card1_mean_id_02',\n",
       " 'card1_std_id_02',\n",
       " 'card2_mean_id_02',\n",
       " 'card2_std_id_02',\n",
       " 'card5_mean_id_02',\n",
       " 'card5_std_id_02',\n",
       " 'card1_mean_D4',\n",
       " 'card1_std_D4',\n",
       " 'card1_mean_D10',\n",
       " 'card1_std_D10',\n",
       " 'card1_mean_D15',\n",
       " 'card1_std_D15',\n",
       " 'card1_mean_id_03',\n",
       " 'card1_std_id_03',\n",
       " 'card1_mean_id_04',\n",
       " 'card1_std_id_04',\n",
       " 'card2_mean_D4',\n",
       " 'card2_std_D4',\n",
       " 'card2_mean_D10',\n",
       " 'card2_std_D10',\n",
       " 'card2_mean_D15',\n",
       " 'card2_std_D15',\n",
       " 'card2_mean_id_03',\n",
       " 'card2_std_id_03',\n",
       " 'card2_mean_id_04',\n",
       " 'card2_std_id_04',\n",
       " 'card3_mean_D4',\n",
       " 'card3_std_D4',\n",
       " 'card3_mean_D10',\n",
       " 'card3_std_D10',\n",
       " 'card3_mean_D15',\n",
       " 'card3_std_D15',\n",
       " 'card3_mean_id_03',\n",
       " 'card3_std_id_03',\n",
       " 'card3_mean_id_04',\n",
       " 'card3_std_id_04',\n",
       " 'card5_mean_D4',\n",
       " 'card5_std_D4',\n",
       " 'card5_mean_D10',\n",
       " 'card5_std_D10',\n",
       " 'card5_mean_D15',\n",
       " 'card5_std_D15',\n",
       " 'card5_mean_id_03',\n",
       " 'card5_std_id_03',\n",
       " 'card5_mean_id_04',\n",
       " 'card5_std_id_04',\n",
       " 'hour_mean_D4',\n",
       " 'hour_std_D4',\n",
       " 'hour_mean_D10',\n",
       " 'hour_std_D10',\n",
       " 'hour_mean_D15',\n",
       " 'hour_std_D15',\n",
       " 'hour_mean_id_03',\n",
       " 'hour_std_id_03',\n",
       " 'hour_mean_id_04',\n",
       " 'hour_std_id_04',\n",
       " 'DeviceType_mean_D4',\n",
       " 'DeviceType_std_D4',\n",
       " 'DeviceType_mean_D10',\n",
       " 'DeviceType_std_D10',\n",
       " 'DeviceType_mean_D15',\n",
       " 'DeviceType_std_D15',\n",
       " 'DeviceType_mean_id_03',\n",
       " 'DeviceType_std_id_03',\n",
       " 'DeviceType_mean_id_04',\n",
       " 'DeviceType_std_id_04',\n",
       " 'addr1_mean_TransactionAmt',\n",
       " 'addr1_std_TransactionAmt',\n",
       " 'addr1_mean_D4',\n",
       " 'addr1_std_D4',\n",
       " 'addr1_mean_D10',\n",
       " 'addr1_std_D10',\n",
       " 'addr1_mean_D15',\n",
       " 'addr1_std_D15',\n",
       " 'addr1_mean_id_02',\n",
       " 'addr1_std_id_02',\n",
       " 'addr1_mean_id_03',\n",
       " 'addr1_std_id_03',\n",
       " 'addr1_mean_id_04',\n",
       " 'addr1_std_id_04',\n",
       " 'addr2_mean_TransactionAmt',\n",
       " 'addr2_std_TransactionAmt',\n",
       " 'addr2_mean_D4',\n",
       " 'addr2_std_D4',\n",
       " 'addr2_mean_D10',\n",
       " 'addr2_std_D10',\n",
       " 'addr2_mean_D15',\n",
       " 'addr2_std_D15',\n",
       " 'addr2_mean_id_03',\n",
       " 'addr2_std_id_03',\n",
       " 'addr2_mean_id_04',\n",
       " 'addr2_std_id_04',\n",
       " 'browser_mean_D4',\n",
       " 'browser_std_D4',\n",
       " 'browser_mean_id_03',\n",
       " 'browser_std_id_03',\n",
       " 'browser_mean_id_04',\n",
       " 'browser_std_id_04',\n",
       " 'card1_weighted_M1',\n",
       " 'card1_weighted_M2',\n",
       " 'card1_weighted_M3',\n",
       " 'card1_weighted_M4',\n",
       " 'card1_weighted_M5',\n",
       " 'card1_weighted_M6',\n",
       " 'card1_weighted_M7',\n",
       " 'card1_weighted_M8',\n",
       " 'card1_weighted_M9',\n",
       " 'hour_weighted_M1',\n",
       " 'hour_weighted_M2',\n",
       " 'hour_weighted_M3',\n",
       " 'hour_weighted_M4',\n",
       " 'hour_weighted_M5',\n",
       " 'hour_weighted_M6',\n",
       " 'hour_weighted_M7',\n",
       " 'hour_weighted_M8',\n",
       " 'hour_weighted_M9',\n",
       " 'os_productcd']"
      ]
     },
     "execution_count": 22,
     "metadata": {},
     "output_type": "execute_result"
    }
   ],
   "source": [
    "train_df.columns.tolist()"
   ]
  },
  {
   "cell_type": "code",
   "execution_count": 23,
   "metadata": {},
   "outputs": [
    {
     "data": {
      "text/plain": [
       "(590540, 506)"
      ]
     },
     "execution_count": 23,
     "metadata": {},
     "output_type": "execute_result"
    }
   ],
   "source": [
    "train_df.shape"
   ]
  },
  {
   "cell_type": "code",
   "execution_count": 57,
   "metadata": {},
   "outputs": [
    {
     "name": "stderr",
     "output_type": "stream",
     "text": [
      "adding count features: 100%|██████████| 14/14 [00:07<00:00,  1.97it/s]\n"
     ]
    }
   ],
   "source": [
    "from columns import nonull_vxxx_cols, delta_cols, match_cols, count_cols\n",
    "for c in tqdm(count_cols, desc='adding count features'):\n",
    "    try:\n",
    "        new_col = '{}_count'.format(c)\n",
    "        train_df.drop(columns=new_col, inplace=True)\n",
    "        test_df.drop(columns=new_col, inplace=True)\n",
    "    except:\n",
    "        pass"
   ]
  },
  {
   "cell_type": "code",
   "execution_count": 58,
   "metadata": {},
   "outputs": [],
   "source": [
    "g = 'ProductCD'\n",
    "new_mean_col = '{}_mean_{}'.format(g, 'TransactionAmt')\n",
    "new_std_col = '{}_std_{}'.format(g, 'TransactionAmt')\n",
    "train_df[new_mean_col] = train_df['TransactionAmt']/train_df.groupby(g)['TransactionAmt'].transform('mean')\n",
    "test_df[new_mean_col] = test_df['TransactionAmt']/test_df.groupby(g)['TransactionAmt'].transform('std')\n",
    "train_df[new_std_col] = train_df['TransactionAmt']/train_df.groupby(g)['TransactionAmt'].transform('mean')\n",
    "test_df[new_std_col] = test_df['TransactionAmt']/test_df.groupby(g)['TransactionAmt'].transform('std')"
   ]
  },
  {
   "cell_type": "code",
   "execution_count": 70,
   "metadata": {},
   "outputs": [
    {
     "data": {
      "text/plain": [
       "(205,\n",
       " ['C1',\n",
       "  'C10',\n",
       "  'C11',\n",
       "  'C12',\n",
       "  'C13',\n",
       "  'C14',\n",
       "  'C2',\n",
       "  'C4',\n",
       "  'C5',\n",
       "  'C6',\n",
       "  'C7',\n",
       "  'C8',\n",
       "  'C9',\n",
       "  'D1',\n",
       "  'D10',\n",
       "  'D11',\n",
       "  'D12',\n",
       "  'D13',\n",
       "  'D14',\n",
       "  'D15',\n",
       "  'D2',\n",
       "  'D3',\n",
       "  'D4',\n",
       "  'D5',\n",
       "  'D6',\n",
       "  'D8',\n",
       "  'D9',\n",
       "  'DeviceInfo',\n",
       "  'DeviceType',\n",
       "  'DeviceType_mean_D10',\n",
       "  'DeviceType_mean_D15',\n",
       "  'DeviceType_mean_D4',\n",
       "  'DeviceType_mean_id_03',\n",
       "  'DeviceType_mean_id_04',\n",
       "  'DeviceType_std_D10',\n",
       "  'DeviceType_std_D15',\n",
       "  'DeviceType_std_D4',\n",
       "  'DeviceType_std_id_03',\n",
       "  'DeviceType_std_id_04',\n",
       "  'M1',\n",
       "  'M2',\n",
       "  'M3',\n",
       "  'M4',\n",
       "  'M5',\n",
       "  'M6',\n",
       "  'M7',\n",
       "  'M8',\n",
       "  'M9',\n",
       "  'P_emaildomain',\n",
       "  'ProductCD',\n",
       "  'ProductCD_count',\n",
       "  'ProductCD_mean_TransactionAmt',\n",
       "  'ProductCD_std_TransactionAmt',\n",
       "  'R_emaildomain',\n",
       "  'TransactionAmt',\n",
       "  'V279',\n",
       "  'V280',\n",
       "  'V285',\n",
       "  'V287',\n",
       "  'V291',\n",
       "  'V292',\n",
       "  'V294',\n",
       "  'V302',\n",
       "  'V303',\n",
       "  'V304',\n",
       "  'V306',\n",
       "  'V307',\n",
       "  'V308',\n",
       "  'V310',\n",
       "  'V312',\n",
       "  'V317',\n",
       "  'addr1',\n",
       "  'addr1_mean_D10',\n",
       "  'addr1_mean_D15',\n",
       "  'addr1_mean_D4',\n",
       "  'addr1_mean_TransactionAmt',\n",
       "  'addr1_mean_id_02',\n",
       "  'addr1_mean_id_03',\n",
       "  'addr1_mean_id_04',\n",
       "  'addr1_std_D10',\n",
       "  'addr1_std_D15',\n",
       "  'addr1_std_D4',\n",
       "  'addr1_std_TransactionAmt',\n",
       "  'addr1_std_id_02',\n",
       "  'addr1_std_id_03',\n",
       "  'addr1_std_id_04',\n",
       "  'addr2',\n",
       "  'addr2_mean_D10',\n",
       "  'addr2_mean_D15',\n",
       "  'addr2_mean_D4',\n",
       "  'addr2_mean_TransactionAmt',\n",
       "  'addr2_mean_id_03',\n",
       "  'addr2_mean_id_04',\n",
       "  'addr2_std_D10',\n",
       "  'addr2_std_D15',\n",
       "  'addr2_std_D4',\n",
       "  'addr2_std_TransactionAmt',\n",
       "  'addr2_std_id_03',\n",
       "  'addr2_std_id_04',\n",
       "  'browser',\n",
       "  'browser_mean_D4',\n",
       "  'browser_mean_id_03',\n",
       "  'browser_mean_id_04',\n",
       "  'browser_std_D4',\n",
       "  'browser_std_id_03',\n",
       "  'browser_std_id_04',\n",
       "  'card1',\n",
       "  'card1_card2',\n",
       "  'card1_count',\n",
       "  'card1_id_15',\n",
       "  'card1_id_31',\n",
       "  'card1_mean_D10',\n",
       "  'card1_mean_D15',\n",
       "  'card1_mean_D4',\n",
       "  'card1_mean_TransactionAmt',\n",
       "  'card1_mean_id_02',\n",
       "  'card1_mean_id_03',\n",
       "  'card1_mean_id_04',\n",
       "  'card1_productcd',\n",
       "  'card1_std_D10',\n",
       "  'card1_std_D15',\n",
       "  'card1_std_D4',\n",
       "  'card1_std_TransactionAmt',\n",
       "  'card1_std_id_02',\n",
       "  'card1_std_id_03',\n",
       "  'card1_std_id_04',\n",
       "  'card1_weighted_M1',\n",
       "  'card1_weighted_M2',\n",
       "  'card1_weighted_M3',\n",
       "  'card1_weighted_M4',\n",
       "  'card1_weighted_M5',\n",
       "  'card1_weighted_M6',\n",
       "  'card1_weighted_M7',\n",
       "  'card1_weighted_M8',\n",
       "  'card1_weighted_M9',\n",
       "  'card2',\n",
       "  'card2_count',\n",
       "  'card2_mean_D10',\n",
       "  'card2_mean_D15',\n",
       "  'card2_mean_D4',\n",
       "  'card2_mean_TransactionAmt',\n",
       "  'card2_mean_id_02',\n",
       "  'card2_mean_id_03',\n",
       "  'card2_mean_id_04',\n",
       "  'card2_std_D10',\n",
       "  'card2_std_D15',\n",
       "  'card2_std_D4',\n",
       "  'card2_std_TransactionAmt',\n",
       "  'card2_std_id_02',\n",
       "  'card2_std_id_03',\n",
       "  'card2_std_id_04',\n",
       "  'card3',\n",
       "  'card3_mean_D10',\n",
       "  'card3_mean_D15',\n",
       "  'card3_mean_D4',\n",
       "  'card3_mean_TransactionAmt',\n",
       "  'card3_mean_id_03',\n",
       "  'card3_mean_id_04',\n",
       "  'card3_std_D10',\n",
       "  'card3_std_D15',\n",
       "  'card3_std_D4',\n",
       "  'card3_std_TransactionAmt',\n",
       "  'card3_std_id_03',\n",
       "  'card3_std_id_04',\n",
       "  'card4_DeviceType',\n",
       "  'card5',\n",
       "  'card5_mean_D10',\n",
       "  'card5_mean_D15',\n",
       "  'card5_mean_D4',\n",
       "  'card5_mean_TransactionAmt',\n",
       "  'card5_mean_id_02',\n",
       "  'card5_mean_id_03',\n",
       "  'card5_mean_id_04',\n",
       "  'card5_std_D10',\n",
       "  'card5_std_D15',\n",
       "  'card5_std_D4',\n",
       "  'card5_std_TransactionAmt',\n",
       "  'card5_std_id_02',\n",
       "  'card5_std_id_03',\n",
       "  'card5_std_id_04',\n",
       "  'device',\n",
       "  'hour',\n",
       "  'hour_mean_D10',\n",
       "  'hour_mean_D15',\n",
       "  'hour_mean_D4',\n",
       "  'hour_mean_id_03',\n",
       "  'hour_mean_id_04',\n",
       "  'hour_std_D10',\n",
       "  'hour_std_D15',\n",
       "  'hour_std_D4',\n",
       "  'hour_std_id_03',\n",
       "  'hour_std_id_04',\n",
       "  'hour_weighted_M1',\n",
       "  'hour_weighted_M2',\n",
       "  'hour_weighted_M3',\n",
       "  'hour_weighted_M4',\n",
       "  'hour_weighted_M5',\n",
       "  'hour_weighted_M6',\n",
       "  'hour_weighted_M7',\n",
       "  'hour_weighted_M8',\n",
       "  'hour_weighted_M9',\n",
       "  'os',\n",
       "  'os_productcd',\n",
       "  'weekday',\n",
       "  'weekday_hour'])"
      ]
     },
     "execution_count": 70,
     "metadata": {},
     "output_type": "execute_result"
    }
   ],
   "source": [
    "from columns import nonull_vxxx_cols, delta_cols, match_cols, count_cols\n",
    "\n",
    "features = [c for c in train_df.columns if 'mean' in c or 'std' in c or 'weight' in c or '_count' in c]\n",
    "features += ['card1','card2','card3','card5'] + ['ProductCD','DeviceType'] + ['P_emaildomain','R_emaildomain']\n",
    "features += ['card1_card2','card1_productcd','card1_id_31','card1_id_15','card4_DeviceType','weekday_hour','os_productcd']\n",
    "#features += ['card1_count','card2_count','ProductCD_count']\n",
    "features += ['os','browser','device']\n",
    "features += ['hour', 'weekday']\n",
    "features += ['addr1','addr2']\n",
    "features += [c for c in nonull_vxxx_cols if c in train_df.columns]\n",
    "features += [c for c in delta_cols if c in train_df.columns]\n",
    "features += [c for c in match_cols if c in train_df.columns]\n",
    "features += [c for c in count_cols if c in train_df.columns]\n",
    "#features += id_categorical_features\n",
    "features += ['DeviceInfo', 'TransactionAmt']\n",
    "len(features), sorted(features)"
   ]
  },
  {
   "cell_type": "code",
   "execution_count": 71,
   "metadata": {},
   "outputs": [
    {
     "data": {
      "text/html": [
       "<div>\n",
       "<style scoped>\n",
       "    .dataframe tbody tr th:only-of-type {\n",
       "        vertical-align: middle;\n",
       "    }\n",
       "\n",
       "    .dataframe tbody tr th {\n",
       "        vertical-align: top;\n",
       "    }\n",
       "\n",
       "    .dataframe thead th {\n",
       "        text-align: right;\n",
       "    }\n",
       "</style>\n",
       "<table border=\"1\" class=\"dataframe\">\n",
       "  <thead>\n",
       "    <tr style=\"text-align: right;\">\n",
       "      <th></th>\n",
       "      <th>M1</th>\n",
       "      <th>M2</th>\n",
       "      <th>M3</th>\n",
       "      <th>M4</th>\n",
       "      <th>M5</th>\n",
       "      <th>M6</th>\n",
       "      <th>M7</th>\n",
       "      <th>M8</th>\n",
       "      <th>M9</th>\n",
       "    </tr>\n",
       "  </thead>\n",
       "  <tbody>\n",
       "    <tr>\n",
       "      <th>0</th>\n",
       "      <td>1</td>\n",
       "      <td>1</td>\n",
       "      <td>1</td>\n",
       "      <td>2</td>\n",
       "      <td>0</td>\n",
       "      <td>1</td>\n",
       "      <td>-1</td>\n",
       "      <td>-1</td>\n",
       "      <td>-1</td>\n",
       "    </tr>\n",
       "    <tr>\n",
       "      <th>1</th>\n",
       "      <td>-1</td>\n",
       "      <td>-1</td>\n",
       "      <td>-1</td>\n",
       "      <td>0</td>\n",
       "      <td>1</td>\n",
       "      <td>1</td>\n",
       "      <td>-1</td>\n",
       "      <td>-1</td>\n",
       "      <td>-1</td>\n",
       "    </tr>\n",
       "    <tr>\n",
       "      <th>2</th>\n",
       "      <td>1</td>\n",
       "      <td>1</td>\n",
       "      <td>1</td>\n",
       "      <td>0</td>\n",
       "      <td>0</td>\n",
       "      <td>0</td>\n",
       "      <td>0</td>\n",
       "      <td>0</td>\n",
       "      <td>0</td>\n",
       "    </tr>\n",
       "    <tr>\n",
       "      <th>3</th>\n",
       "      <td>-1</td>\n",
       "      <td>-1</td>\n",
       "      <td>-1</td>\n",
       "      <td>0</td>\n",
       "      <td>1</td>\n",
       "      <td>0</td>\n",
       "      <td>-1</td>\n",
       "      <td>-1</td>\n",
       "      <td>-1</td>\n",
       "    </tr>\n",
       "    <tr>\n",
       "      <th>4</th>\n",
       "      <td>-1</td>\n",
       "      <td>-1</td>\n",
       "      <td>-1</td>\n",
       "      <td>-1</td>\n",
       "      <td>-1</td>\n",
       "      <td>-1</td>\n",
       "      <td>-1</td>\n",
       "      <td>-1</td>\n",
       "      <td>-1</td>\n",
       "    </tr>\n",
       "  </tbody>\n",
       "</table>\n",
       "</div>"
      ],
      "text/plain": [
       "   M1  M2  M3  M4  M5  M6  M7  M8  M9\n",
       "0   1   1   1   2   0   1  -1  -1  -1\n",
       "1  -1  -1  -1   0   1   1  -1  -1  -1\n",
       "2   1   1   1   0   0   0   0   0   0\n",
       "3  -1  -1  -1   0   1   0  -1  -1  -1\n",
       "4  -1  -1  -1  -1  -1  -1  -1  -1  -1"
      ]
     },
     "execution_count": 71,
     "metadata": {},
     "output_type": "execute_result"
    }
   ],
   "source": [
    "train_df[[c for c in match_cols if c in train_df.columns]].head(5)"
   ]
  },
  {
   "cell_type": "code",
   "execution_count": 72,
   "metadata": {},
   "outputs": [],
   "source": [
    "str_categorical_features = ['card1_card2','card1_productcd','card1_id_31','card1_id_15','card4_DeviceType','weekday_hour','os_productcd'] + ['os','browser','device'] + ['ProductCD','DeviceType','DeviceInfo'] + ['P_emaildomain','R_emaildomain']\n",
    "int_categorical_features = ['card1','card2','card3','card5'] + ['hour', 'weekday'] + ['addr1','addr2'] + ['hour', 'weekday']"
   ]
  },
  {
   "cell_type": "code",
   "execution_count": 73,
   "metadata": {},
   "outputs": [],
   "source": [
    "# it should not print anything\n",
    "for c in str_categorical_features+int_categorical_features:\n",
    "    if not c in features:\n",
    "        print(c, c in features)"
   ]
  },
  {
   "cell_type": "code",
   "execution_count": 74,
   "metadata": {},
   "outputs": [],
   "source": [
    "pd.set_option('max_column', None)"
   ]
  },
  {
   "cell_type": "code",
   "execution_count": 69,
   "metadata": {},
   "outputs": [
    {
     "name": "stdout",
     "output_type": "stream",
     "text": [
      "ROC AUC score with 177 columns: 0.9140\n"
     ]
    }
   ],
   "source": [
    "feature_test(\n",
    "    train_df,\n",
    "    features,\n",
    "    cat_cols=str_categorical_features)"
   ]
  },
  {
   "cell_type": "code",
   "execution_count": 75,
   "metadata": {},
   "outputs": [
    {
     "data": {
      "text/plain": [
       "(['V1',\n",
       "  'V10',\n",
       "  'V100',\n",
       "  'V11',\n",
       "  'V12',\n",
       "  'V126',\n",
       "  'V127',\n",
       "  'V128',\n",
       "  'V13',\n",
       "  'V130',\n",
       "  'V131',\n",
       "  'V138',\n",
       "  'V139',\n",
       "  'V14',\n",
       "  'V140',\n",
       "  'V141',\n",
       "  'V142',\n",
       "  'V143',\n",
       "  'V144',\n",
       "  'V145',\n",
       "  'V146',\n",
       "  'V147',\n",
       "  'V148',\n",
       "  'V149',\n",
       "  'V15',\n",
       "  'V150',\n",
       "  'V151',\n",
       "  'V152',\n",
       "  'V153',\n",
       "  'V154',\n",
       "  'V155',\n",
       "  'V156',\n",
       "  'V157',\n",
       "  'V158',\n",
       "  'V159',\n",
       "  'V16',\n",
       "  'V160',\n",
       "  'V161',\n",
       "  'V162',\n",
       "  'V163',\n",
       "  'V164',\n",
       "  'V165',\n",
       "  'V166',\n",
       "  'V167',\n",
       "  'V168',\n",
       "  'V169',\n",
       "  'V17',\n",
       "  'V170',\n",
       "  'V171',\n",
       "  'V172',\n",
       "  'V173',\n",
       "  'V174',\n",
       "  'V175',\n",
       "  'V176',\n",
       "  'V177',\n",
       "  'V178',\n",
       "  'V179',\n",
       "  'V18',\n",
       "  'V180',\n",
       "  'V181',\n",
       "  'V182',\n",
       "  'V183',\n",
       "  'V184',\n",
       "  'V185',\n",
       "  'V186',\n",
       "  'V187',\n",
       "  'V188',\n",
       "  'V189',\n",
       "  'V19',\n",
       "  'V190',\n",
       "  'V191',\n",
       "  'V192',\n",
       "  'V193',\n",
       "  'V194',\n",
       "  'V195',\n",
       "  'V196',\n",
       "  'V197',\n",
       "  'V198',\n",
       "  'V199',\n",
       "  'V2',\n",
       "  'V20',\n",
       "  'V200',\n",
       "  'V201',\n",
       "  'V202',\n",
       "  'V203',\n",
       "  'V204',\n",
       "  'V205',\n",
       "  'V206',\n",
       "  'V207',\n",
       "  'V208',\n",
       "  'V209',\n",
       "  'V21',\n",
       "  'V210',\n",
       "  'V211',\n",
       "  'V212',\n",
       "  'V213',\n",
       "  'V214',\n",
       "  'V215',\n",
       "  'V216',\n",
       "  'V217',\n",
       "  'V218',\n",
       "  'V219',\n",
       "  'V22',\n",
       "  'V220',\n",
       "  'V221',\n",
       "  'V222',\n",
       "  'V223',\n",
       "  'V224',\n",
       "  'V225',\n",
       "  'V226',\n",
       "  'V227',\n",
       "  'V228',\n",
       "  'V229',\n",
       "  'V23',\n",
       "  'V230',\n",
       "  'V231',\n",
       "  'V232',\n",
       "  'V233',\n",
       "  'V234',\n",
       "  'V235',\n",
       "  'V236',\n",
       "  'V237',\n",
       "  'V238',\n",
       "  'V239',\n",
       "  'V24',\n",
       "  'V240',\n",
       "  'V241',\n",
       "  'V242',\n",
       "  'V243',\n",
       "  'V244',\n",
       "  'V245',\n",
       "  'V246',\n",
       "  'V247',\n",
       "  'V248',\n",
       "  'V249',\n",
       "  'V25',\n",
       "  'V250',\n",
       "  'V251',\n",
       "  'V252',\n",
       "  'V253',\n",
       "  'V254',\n",
       "  'V255',\n",
       "  'V256',\n",
       "  'V257',\n",
       "  'V258',\n",
       "  'V259',\n",
       "  'V26',\n",
       "  'V260',\n",
       "  'V261',\n",
       "  'V262',\n",
       "  'V263',\n",
       "  'V264',\n",
       "  'V265',\n",
       "  'V266',\n",
       "  'V267',\n",
       "  'V268',\n",
       "  'V269',\n",
       "  'V27',\n",
       "  'V270',\n",
       "  'V271',\n",
       "  'V272',\n",
       "  'V273',\n",
       "  'V274',\n",
       "  'V275',\n",
       "  'V276',\n",
       "  'V277',\n",
       "  'V278',\n",
       "  'V28',\n",
       "  'V282',\n",
       "  'V283',\n",
       "  'V288',\n",
       "  'V289',\n",
       "  'V29',\n",
       "  'V3',\n",
       "  'V30',\n",
       "  'V31',\n",
       "  'V313',\n",
       "  'V314',\n",
       "  'V315',\n",
       "  'V32',\n",
       "  'V322',\n",
       "  'V323',\n",
       "  'V324',\n",
       "  'V325',\n",
       "  'V326',\n",
       "  'V327',\n",
       "  'V328',\n",
       "  'V329',\n",
       "  'V33',\n",
       "  'V330',\n",
       "  'V331',\n",
       "  'V332',\n",
       "  'V333',\n",
       "  'V334',\n",
       "  'V335',\n",
       "  'V336',\n",
       "  'V337',\n",
       "  'V338',\n",
       "  'V339',\n",
       "  'V34',\n",
       "  'V35',\n",
       "  'V36',\n",
       "  'V37',\n",
       "  'V38',\n",
       "  'V39',\n",
       "  'V4',\n",
       "  'V40',\n",
       "  'V41',\n",
       "  'V42',\n",
       "  'V43',\n",
       "  'V44',\n",
       "  'V45',\n",
       "  'V46',\n",
       "  'V47',\n",
       "  'V48',\n",
       "  'V49',\n",
       "  'V5',\n",
       "  'V50',\n",
       "  'V51',\n",
       "  'V52',\n",
       "  'V53',\n",
       "  'V54',\n",
       "  'V55',\n",
       "  'V56',\n",
       "  'V57',\n",
       "  'V58',\n",
       "  'V59',\n",
       "  'V6',\n",
       "  'V60',\n",
       "  'V61',\n",
       "  'V62',\n",
       "  'V63',\n",
       "  'V64',\n",
       "  'V65',\n",
       "  'V66',\n",
       "  'V67',\n",
       "  'V68',\n",
       "  'V69',\n",
       "  'V7',\n",
       "  'V70',\n",
       "  'V71',\n",
       "  'V72',\n",
       "  'V73',\n",
       "  'V74',\n",
       "  'V75',\n",
       "  'V76',\n",
       "  'V77',\n",
       "  'V78',\n",
       "  'V79',\n",
       "  'V8',\n",
       "  'V80',\n",
       "  'V81',\n",
       "  'V82',\n",
       "  'V83',\n",
       "  'V84',\n",
       "  'V85',\n",
       "  'V86',\n",
       "  'V87',\n",
       "  'V88',\n",
       "  'V89',\n",
       "  'V9',\n",
       "  'V90',\n",
       "  'V91',\n",
       "  'V92',\n",
       "  'V93',\n",
       "  'V94',\n",
       "  'V95',\n",
       "  'V96',\n",
       "  'V97',\n",
       "  'V99',\n",
       "  'card4',\n",
       "  'card6',\n",
       "  'dist1',\n",
       "  'id_01',\n",
       "  'id_02',\n",
       "  'id_03',\n",
       "  'id_04',\n",
       "  'id_05',\n",
       "  'id_06',\n",
       "  'id_09',\n",
       "  'id_10',\n",
       "  'id_11',\n",
       "  'id_12',\n",
       "  'id_13',\n",
       "  'id_14',\n",
       "  'id_15',\n",
       "  'id_16',\n",
       "  'id_17',\n",
       "  'id_19',\n",
       "  'id_20',\n",
       "  'id_28',\n",
       "  'id_29',\n",
       "  'id_30',\n",
       "  'id_31',\n",
       "  'id_32',\n",
       "  'id_33',\n",
       "  'id_34',\n",
       "  'id_35',\n",
       "  'id_36',\n",
       "  'id_37',\n",
       "  'id_38'],\n",
       " '301 columns to remove.')"
      ]
     },
     "execution_count": 75,
     "metadata": {},
     "output_type": "execute_result"
    }
   ],
   "source": [
    "not_used_columns = [c for c in train_df.columns if c not in features]\n",
    "if 'TransactionDT' in not_used_columns:\n",
    "    not_used_columns.remove('TransactionDT')\n",
    "if 'isFraud' in not_used_columns:\n",
    "    not_used_columns.remove('isFraud')\n",
    "sorted(not_used_columns), '{} columns to remove.'.format(len(not_used_columns))"
   ]
  },
  {
   "cell_type": "code",
   "execution_count": 68,
   "metadata": {},
   "outputs": [],
   "source": [
    "train_df.drop(columns=not_used_columns, inplace=True)\n",
    "test_df.drop(columns=not_used_columns, inplace=True)"
   ]
  },
  {
   "cell_type": "code",
   "execution_count": 69,
   "metadata": {},
   "outputs": [],
   "source": [
    "vxxx_float_columns = ['V279','V280','V285','V291','V293','V294','V295','V306','V307','V308','V309','V310','V311','V312','V316','V317','V318','V319','V320','V321']"
   ]
  },
  {
   "cell_type": "code",
   "execution_count": 76,
   "metadata": {},
   "outputs": [
    {
     "data": {
      "text/plain": [
       "316"
      ]
     },
     "execution_count": 76,
     "metadata": {},
     "output_type": "execute_result"
    }
   ],
   "source": [
    "gc.collect()"
   ]
  },
  {
   "cell_type": "code",
   "execution_count": 79,
   "metadata": {},
   "outputs": [
    {
     "data": {
      "text/plain": [
       "set()"
      ]
     },
     "execution_count": 79,
     "metadata": {},
     "output_type": "execute_result"
    }
   ],
   "source": [
    "# this should not print anything\n",
    "set(features+str_categorical_features+int_categorical_features).difference(set(train_df.columns.tolist()))"
   ]
  },
  {
   "cell_type": "code",
   "execution_count": 28,
   "metadata": {},
   "outputs": [],
   "source": [
    "for c in str_categorical_features:\n",
    "    train_df[c] = train_df[c].astype('category')\n",
    "    test_df[c] = test_df[c].astype('category')"
   ]
  },
  {
   "cell_type": "code",
   "execution_count": 35,
   "metadata": {},
   "outputs": [],
   "source": [
    "train_df.to_csv('/data/ieee/train_preprocessed_v5_oversampled.csv.zip', index=False, compression='zip')\n",
    "test_df.to_csv('/data/ieee/test_preprocessed_v5_oversampled.csv.zip', index=False, compression='zip')"
   ]
  },
  {
   "cell_type": "markdown",
   "metadata": {},
   "source": [
    "#### apply negative downsampling"
   ]
  },
  {
   "cell_type": "code",
   "execution_count": 131,
   "metadata": {},
   "outputs": [
    {
     "name": "stdout",
     "output_type": "stream",
     "text": [
      "(590540, 508)\n",
      "(134638, 508)\n"
     ]
    }
   ],
   "source": [
    "print(train_df.shape)\n",
    "negative_sampled_df = pd.concat([train_df[train_df['isFraud']==1], train_df[train_df['isFraud']==0].sample(frac=0.2, random_state=0)]).sample(frac=1, random_state=0)\n",
    "print(negative_sampled_df.shape)"
   ]
  },
  {
   "cell_type": "markdown",
   "metadata": {},
   "source": [
    "#### train xgb classifier"
   ]
  },
  {
   "cell_type": "code",
   "execution_count": 80,
   "metadata": {},
   "outputs": [],
   "source": [
    "x_train = train_df[features].copy()\n",
    "y_train = train_df.isFraud\n",
    "x_test = test_df[features].copy()"
   ]
  },
  {
   "cell_type": "code",
   "execution_count": 86,
   "metadata": {},
   "outputs": [
    {
     "name": "stderr",
     "output_type": "stream",
     "text": [
      "100%|██████████| 205/205 [00:15<00:00, 13.03it/s] \n"
     ]
    }
   ],
   "source": [
    "# Label Encoding: label-encoding is necessary for xgboost\n",
    "for c in tqdm(features):\n",
    "    if str(x_train[c].dtype)=='object' or str(x_train[c].dtype)=='object':\n",
    "        lbl = preprocessing.LabelEncoder()\n",
    "        lbl.fit(list(x_train[c].values) + list(x_test[c].values))\n",
    "        x_train[c] = lbl.transform(list(x_train[c].values))\n",
    "        x_test[c] = lbl.transform(list(x_test[c].values))"
   ]
  },
  {
   "cell_type": "code",
   "execution_count": 132,
   "metadata": {},
   "outputs": [],
   "source": [
    "folds = 3\n",
    "kf = KFold(n_splits = folds, shuffle = True, random_state=100)"
   ]
  },
  {
   "cell_type": "code",
   "execution_count": 133,
   "metadata": {
    "scrolled": true
   },
   "outputs": [
    {
     "name": "stdout",
     "output_type": "stream",
     "text": [
      "ROC: 0.7917\n",
      "ROC: 0.7916\n",
      "ROC: 0.7902\n",
      "CPU times: user 8min 23s, sys: 2min 9s, total: 10min 32s\n",
      "Wall time: 10min 32s\n"
     ]
    }
   ],
   "source": [
    "%%time\n",
    "\n",
    "pred_1 = np.zeros(x_test.shape[0])\n",
    "\n",
    "for i, (tr_idx, val_idx) in enumerate(kf.split(x_train, y_train)):\n",
    "    clf = xgb.XGBClassifier(\n",
    "        n_estimators=800,\n",
    "        max_depth=15,\n",
    "        learning_rate=0.03,\n",
    "        subsample=0.9,\n",
    "        colsample_bytree=0.9,\n",
    "        tree_method='gpu_hist'\n",
    "    )\n",
    "    \n",
    "    # train classifier\n",
    "    x_tr = x_train.iloc[tr_idx, :]\n",
    "    y_tr = y_train.iloc[tr_idx]\n",
    "    clf.fit(x_tr, y_tr)\n",
    "    \n",
    "    # test classifier\n",
    "    x_te = x_train.iloc[val_idx, :]\n",
    "    y_te = y_train.iloc[val_idx]\n",
    "    y_pred = clf.predict(x_te)\n",
    "    try:\n",
    "        print('ROC: {:.4f}'.format(roc_auc_score(y_te, y_pred)))\n",
    "    except:\n",
    "        print('ROC is not defined for one-class value')\n",
    "          \n",
    "    pred_1 += clf.predict_proba(x_test)[:,1]/folds\n",
    "    #del clf\n",
    "\n",
    "gc.collect()"
   ]
  },
  {
   "cell_type": "code",
   "execution_count": 91,
   "metadata": {},
   "outputs": [],
   "source": [
    "for c in x_train.columns:\n",
    "    x_train[c].fillna(-999)\n",
    "    x_test[c].fillna(-999)"
   ]
  },
  {
   "cell_type": "code",
   "execution_count": 134,
   "metadata": {},
   "outputs": [],
   "source": [
    "params = {'application': 'binary',\n",
    "          'boosting': 'gbdt',\n",
    "          'metric': 'auc',\n",
    "          'max_depth': 16,\n",
    "          'learning_rate': 0.05,\n",
    "          'bagging_fraction': 0.9,\n",
    "          'feature_fraction': 0.9,\n",
    "          'verbosity': -1,\n",
    "          'lambda_l1': 0.1,\n",
    "          'lambda_l2': 0.01,\n",
    "          'num_leaves': 500,\n",
    "          'min_child_weight': 3,\n",
    "          'data_random_seed': 17,\n",
    "         'nthreads':4}\n",
    "params = {'num_leaves': 491,\n",
    "          'min_child_weight': 0.03454472573214212,\n",
    "          'feature_fraction': 0.3797454081646243,\n",
    "          'bagging_fraction': 0.4181193142567742,\n",
    "          'min_data_in_leaf': 106,\n",
    "          'objective': 'binary',\n",
    "          'max_depth': -1,\n",
    "          'learning_rate': 0.006883242363721497,\n",
    "          \"boosting_type\": \"gbdt\",\n",
    "          \"bagging_seed\": 11,\n",
    "          \"metric\": 'auc',\n",
    "          \"verbosity\": -1,\n",
    "          'reg_alpha': 0.3899927210061127,\n",
    "          'reg_lambda': 0.6485237330340494,\n",
    "          'random_state': 47,\n",
    "         }\n",
    "\n",
    "early_stop = 500\n",
    "verbose_eval = 30\n",
    "num_rounds = 600\n",
    "# \n",
    "folds = 3\n",
    "kf = KFold(n_splits = folds, shuffle = True, random_state=100)\n",
    "feature_importance_df = pd.DataFrame()\n",
    "i = 0"
   ]
  },
  {
   "cell_type": "code",
   "execution_count": 135,
   "metadata": {},
   "outputs": [
    {
     "name": "stdout",
     "output_type": "stream",
     "text": [
      "CPU times: user 2 µs, sys: 0 ns, total: 2 µs\n",
      "Wall time: 4.53 µs\n"
     ]
    },
    {
     "name": "stderr",
     "output_type": "stream",
     "text": [
      "/usr/local/lib/python3.5/dist-packages/lightgbm/basic.py:1221: UserWarning: Using categorical_feature in Dataset.\n",
      "  warnings.warn('Using categorical_feature in Dataset.')\n"
     ]
    },
    {
     "name": "stdout",
     "output_type": "stream",
     "text": [
      "ROC: 0.963412145963486\n"
     ]
    },
    {
     "name": "stderr",
     "output_type": "stream",
     "text": [
      "/usr/local/lib/python3.5/dist-packages/lightgbm/basic.py:1221: UserWarning: Using categorical_feature in Dataset.\n",
      "  warnings.warn('Using categorical_feature in Dataset.')\n"
     ]
    },
    {
     "name": "stdout",
     "output_type": "stream",
     "text": [
      "ROC: 0.9591637920945563\n"
     ]
    },
    {
     "name": "stderr",
     "output_type": "stream",
     "text": [
      "/usr/local/lib/python3.5/dist-packages/lightgbm/basic.py:1221: UserWarning: Using categorical_feature in Dataset.\n",
      "  warnings.warn('Using categorical_feature in Dataset.')\n"
     ]
    },
    {
     "name": "stdout",
     "output_type": "stream",
     "text": [
      "ROC: 0.9608228885405636\n"
     ]
    }
   ],
   "source": [
    "%time\n",
    "pred_2 = np.zeros(x_test.shape[0])\n",
    "for tr_idx, val_idx in kf.split(x_train, y_train):\n",
    "    x_tr = x_train.iloc[tr_idx, :]\n",
    "    y_tr = y_train.iloc[tr_idx]\n",
    "    \n",
    "    x_te = x_train.iloc[val_idx, :]\n",
    "    y_te = y_train.iloc[val_idx]\n",
    "    \n",
    "    d_train = lgb.Dataset(x_tr, label=y_tr,categorical_feature=str_categorical_features)\n",
    "    watchlist = []\n",
    "\n",
    "    # train classifier\n",
    "    model = lgb.train(params,\n",
    "                      train_set=d_train,\n",
    "                      num_boost_round=num_rounds,\n",
    "                      valid_sets=watchlist,\n",
    "                      verbose_eval=verbose_eval)\n",
    "        \n",
    "    fold_importance_df = pd.DataFrame()\n",
    "    fold_importance_df[\"Feature\"] = x_tr.columns\n",
    "    fold_importance_df[\"importance\"] = model.feature_importance()\n",
    "    fold_importance_df[\"fold\"] = i + 1\n",
    "    feature_importance_df = pd.concat([feature_importance_df, fold_importance_df], axis=0)\n",
    "    print('ROC:', roc_auc_score(y_te, model.predict(x_te) / folds))\n",
    "    \n",
    "    pred_2 += (model.predict(x_test)/folds)\n",
    "    del x_tr, d_train"
   ]
  },
  {
   "cell_type": "code",
   "execution_count": 136,
   "metadata": {},
   "outputs": [],
   "source": [
    "verbose_eval = 30\n",
    "num_rounds = 800\n",
    "folds = 3\n",
    "kf = KFold(n_splits = folds, shuffle = True, random_state=seed+1)\n",
    "feature_importance_df = pd.DataFrame()"
   ]
  },
  {
   "cell_type": "code",
   "execution_count": 137,
   "metadata": {},
   "outputs": [
    {
     "name": "stdout",
     "output_type": "stream",
     "text": [
      "0:\tlearn: 0.6150317\ttotal: 941ms\tremaining: 12m 31s\n",
      "30:\tlearn: 0.0932833\ttotal: 29.3s\tremaining: 12m 6s\n",
      "60:\tlearn: 0.0702646\ttotal: 58s\tremaining: 11m 43s\n",
      "90:\tlearn: 0.0621388\ttotal: 1m 27s\tremaining: 11m 22s\n",
      "120:\tlearn: 0.0573333\ttotal: 1m 56s\tremaining: 10m 52s\n",
      "150:\tlearn: 0.0534623\ttotal: 2m 25s\tremaining: 10m 25s\n",
      "180:\tlearn: 0.0507033\ttotal: 2m 54s\tremaining: 9m 56s\n",
      "210:\tlearn: 0.0479632\ttotal: 3m 23s\tremaining: 9m 26s\n",
      "240:\tlearn: 0.0453446\ttotal: 3m 52s\tremaining: 8m 58s\n",
      "270:\tlearn: 0.0437113\ttotal: 4m 20s\tremaining: 8m 28s\n",
      "300:\tlearn: 0.0419656\ttotal: 4m 49s\tremaining: 8m\n",
      "330:\tlearn: 0.0400016\ttotal: 5m 19s\tremaining: 7m 32s\n",
      "360:\tlearn: 0.0384614\ttotal: 5m 48s\tremaining: 7m 3s\n",
      "390:\tlearn: 0.0367417\ttotal: 6m 18s\tremaining: 6m 35s\n",
      "420:\tlearn: 0.0354539\ttotal: 6m 47s\tremaining: 6m 6s\n",
      "450:\tlearn: 0.0344450\ttotal: 7m 16s\tremaining: 5m 37s\n",
      "480:\tlearn: 0.0332941\ttotal: 7m 45s\tremaining: 5m 8s\n",
      "510:\tlearn: 0.0321881\ttotal: 8m 14s\tremaining: 4m 39s\n",
      "540:\tlearn: 0.0312208\ttotal: 8m 43s\tremaining: 4m 10s\n",
      "570:\tlearn: 0.0303807\ttotal: 9m 12s\tremaining: 3m 41s\n",
      "600:\tlearn: 0.0294438\ttotal: 9m 41s\tremaining: 3m 12s\n",
      "630:\tlearn: 0.0284318\ttotal: 10m 10s\tremaining: 2m 43s\n",
      "660:\tlearn: 0.0278055\ttotal: 10m 39s\tremaining: 2m 14s\n",
      "690:\tlearn: 0.0271002\ttotal: 11m 8s\tremaining: 1m 45s\n",
      "720:\tlearn: 0.0262822\ttotal: 11m 37s\tremaining: 1m 16s\n",
      "750:\tlearn: 0.0255316\ttotal: 12m 6s\tremaining: 47.4s\n",
      "780:\tlearn: 0.0248137\ttotal: 12m 35s\tremaining: 18.4s\n",
      "799:\tlearn: 0.0244460\ttotal: 12m 53s\tremaining: 0us\n",
      "debug: 0.9992285364684446\n",
      "debug: 0.9992285364684446\n",
      "debug: 0.9511104278750475\n",
      "0:\tlearn: 0.6166978\ttotal: 947ms\tremaining: 12m 36s\n",
      "30:\tlearn: 0.0936841\ttotal: 29.4s\tremaining: 12m 9s\n",
      "60:\tlearn: 0.0698395\ttotal: 58.4s\tremaining: 11m 48s\n",
      "90:\tlearn: 0.0620689\ttotal: 1m 27s\tremaining: 11m 22s\n",
      "120:\tlearn: 0.0567881\ttotal: 1m 57s\tremaining: 10m 57s\n",
      "150:\tlearn: 0.0535904\ttotal: 2m 25s\tremaining: 10m 25s\n",
      "180:\tlearn: 0.0511276\ttotal: 2m 54s\tremaining: 9m 55s\n",
      "210:\tlearn: 0.0482429\ttotal: 3m 23s\tremaining: 9m 27s\n",
      "240:\tlearn: 0.0460610\ttotal: 3m 51s\tremaining: 8m 58s\n",
      "270:\tlearn: 0.0443583\ttotal: 4m 20s\tremaining: 8m 28s\n",
      "300:\tlearn: 0.0422938\ttotal: 4m 49s\tremaining: 7m 59s\n",
      "330:\tlearn: 0.0404457\ttotal: 5m 18s\tremaining: 7m 31s\n",
      "360:\tlearn: 0.0385239\ttotal: 5m 47s\tremaining: 7m 2s\n",
      "390:\tlearn: 0.0373305\ttotal: 6m 16s\tremaining: 6m 34s\n",
      "420:\tlearn: 0.0359382\ttotal: 6m 46s\tremaining: 6m 5s\n",
      "450:\tlearn: 0.0345349\ttotal: 7m 16s\tremaining: 5m 37s\n",
      "480:\tlearn: 0.0331377\ttotal: 7m 45s\tremaining: 5m 9s\n",
      "510:\tlearn: 0.0321930\ttotal: 8m 15s\tremaining: 4m 40s\n",
      "540:\tlearn: 0.0310193\ttotal: 8m 44s\tremaining: 4m 11s\n",
      "570:\tlearn: 0.0298076\ttotal: 9m 14s\tremaining: 3m 42s\n",
      "600:\tlearn: 0.0288386\ttotal: 9m 43s\tremaining: 3m 13s\n",
      "630:\tlearn: 0.0280406\ttotal: 10m 12s\tremaining: 2m 44s\n",
      "660:\tlearn: 0.0273719\ttotal: 10m 41s\tremaining: 2m 14s\n",
      "690:\tlearn: 0.0266778\ttotal: 11m 10s\tremaining: 1m 45s\n",
      "720:\tlearn: 0.0259421\ttotal: 11m 39s\tremaining: 1m 16s\n",
      "750:\tlearn: 0.0252658\ttotal: 12m 8s\tremaining: 47.5s\n",
      "780:\tlearn: 0.0246560\ttotal: 12m 37s\tremaining: 18.4s\n",
      "799:\tlearn: 0.0241732\ttotal: 12m 55s\tremaining: 0us\n",
      "debug: 0.9992312967543737\n",
      "debug: 0.9992312967543737\n",
      "debug: 0.9497553620717348\n",
      "0:\tlearn: 0.6151840\ttotal: 929ms\tremaining: 12m 22s\n",
      "30:\tlearn: 0.0940180\ttotal: 29.4s\tremaining: 12m 9s\n",
      "60:\tlearn: 0.0700089\ttotal: 58.8s\tremaining: 11m 51s\n",
      "90:\tlearn: 0.0629543\ttotal: 1m 27s\tremaining: 11m 22s\n",
      "120:\tlearn: 0.0579454\ttotal: 1m 56s\tremaining: 10m 54s\n",
      "150:\tlearn: 0.0547565\ttotal: 2m 25s\tremaining: 10m 23s\n",
      "180:\tlearn: 0.0516295\ttotal: 2m 54s\tremaining: 9m 55s\n",
      "210:\tlearn: 0.0493691\ttotal: 3m 22s\tremaining: 9m 24s\n",
      "240:\tlearn: 0.0470138\ttotal: 3m 50s\tremaining: 8m 55s\n",
      "270:\tlearn: 0.0452219\ttotal: 4m 19s\tremaining: 8m 25s\n",
      "300:\tlearn: 0.0432411\ttotal: 4m 48s\tremaining: 7m 57s\n",
      "330:\tlearn: 0.0416134\ttotal: 5m 17s\tremaining: 7m 29s\n",
      "360:\tlearn: 0.0400664\ttotal: 5m 46s\tremaining: 7m\n",
      "390:\tlearn: 0.0386668\ttotal: 6m 14s\tremaining: 6m 32s\n",
      "420:\tlearn: 0.0373372\ttotal: 6m 44s\tremaining: 6m 3s\n",
      "450:\tlearn: 0.0360407\ttotal: 7m 13s\tremaining: 5m 35s\n",
      "480:\tlearn: 0.0348821\ttotal: 7m 42s\tremaining: 5m 6s\n",
      "510:\tlearn: 0.0338817\ttotal: 8m 11s\tremaining: 4m 38s\n",
      "540:\tlearn: 0.0329123\ttotal: 8m 40s\tremaining: 4m 9s\n",
      "570:\tlearn: 0.0318664\ttotal: 9m 9s\tremaining: 3m 40s\n",
      "600:\tlearn: 0.0308396\ttotal: 9m 38s\tremaining: 3m 11s\n",
      "630:\tlearn: 0.0298895\ttotal: 10m 7s\tremaining: 2m 42s\n",
      "660:\tlearn: 0.0290393\ttotal: 10m 37s\tremaining: 2m 13s\n",
      "690:\tlearn: 0.0279323\ttotal: 11m 6s\tremaining: 1m 45s\n",
      "720:\tlearn: 0.0270252\ttotal: 11m 35s\tremaining: 1m 16s\n",
      "750:\tlearn: 0.0262061\ttotal: 12m 5s\tremaining: 47.3s\n",
      "780:\tlearn: 0.0254738\ttotal: 12m 34s\tremaining: 18.3s\n",
      "799:\tlearn: 0.0249300\ttotal: 12m 52s\tremaining: 0us\n",
      "debug: 0.9991488818194346\n",
      "debug: 0.9991488818194346\n",
      "debug: 0.9463435394424402\n"
     ]
    }
   ],
   "source": [
    "#### test purpose\n",
    "pred_3 = np.zeros(test_df.shape[0])\n",
    "\n",
    "for tr_idx, val_idx in kf.split(x_train, y_train):\n",
    "    # split dataset\n",
    "    X_tr = x_train.iloc[tr_idx, :]\n",
    "    y_tr = y_train.iloc[tr_idx]\n",
    "    X_te = x_train.iloc[tr_idx, :]\n",
    "    y_te = y_train.iloc[tr_idx]\n",
    "    \n",
    "    # define and train model\n",
    "    model=cb.CatBoostClassifier(\n",
    "        iterations=num_rounds,\n",
    "        depth=14,\n",
    "        learning_rate=0.04,\n",
    "        loss_function='Logloss',\n",
    "        eval_metric='Logloss',\n",
    "        task_type = \"GPU\")\n",
    "    model.fit(X_tr, y_tr, cat_features=str_categorical_features, verbose_eval=30)\n",
    "        \n",
    "    # \n",
    "    pred_3 += (model.predict_proba(x_test)[:,1] / folds)\n",
    "    \n",
    "    y_prob = model.predict_proba(X_te)[:,1]\n",
    "    print(\"debug:\",roc_auc_score(y_te, y_prob/folds))\n",
    "    print(\"debug:\",roc_auc_score(y_te, y_prob))\n",
    "    print(\"debug:\",roc_auc_score(y_te, model.predict(X_te)))\n",
    "    del X_tr, X_te"
   ]
  },
  {
   "cell_type": "code",
   "execution_count": 139,
   "metadata": {},
   "outputs": [],
   "source": [
    "a = 1"
   ]
  },
  {
   "cell_type": "code",
   "execution_count": 104,
   "metadata": {},
   "outputs": [],
   "source": [
    "pickle.dump(pred_2, open('pred_2.pkl','wb'))"
   ]
  },
  {
   "cell_type": "code",
   "execution_count": 105,
   "metadata": {},
   "outputs": [],
   "source": [
    "pickle.dump(pred_3, open('pred_3.pkl','wb'))"
   ]
  },
  {
   "cell_type": "code",
   "execution_count": 106,
   "metadata": {},
   "outputs": [],
   "source": [
    "pickle.dump(pred_1, open('pred_1.pkl','wb'))"
   ]
  },
  {
   "cell_type": "markdown",
   "metadata": {},
   "source": [
    "### write submission"
   ]
  },
  {
   "cell_type": "code",
   "execution_count": 140,
   "metadata": {},
   "outputs": [],
   "source": [
    "sub2_filename = 'submission_2867.csv'  # sub2_filename is always the best submission\n",
    "sub2_df = pd.read_csv(sub2_filename)\n",
    "df = pd.DataFrame({\n",
    "    'm1': pred_1,\n",
    "    'm2': pred_2,\n",
    "    'm3': pred_3,\n",
    "    'm4':(pred_1+pred_2+pred_3)/3,\n",
    "    'y': sub2_df.isFraud\n",
    "})"
   ]
  },
  {
   "cell_type": "code",
   "execution_count": 141,
   "metadata": {},
   "outputs": [
    {
     "data": {
      "text/html": [
       "<div>\n",
       "<style scoped>\n",
       "    .dataframe tbody tr th:only-of-type {\n",
       "        vertical-align: middle;\n",
       "    }\n",
       "\n",
       "    .dataframe tbody tr th {\n",
       "        vertical-align: top;\n",
       "    }\n",
       "\n",
       "    .dataframe thead th {\n",
       "        text-align: right;\n",
       "    }\n",
       "</style>\n",
       "<table border=\"1\" class=\"dataframe\">\n",
       "  <thead>\n",
       "    <tr style=\"text-align: right;\">\n",
       "      <th></th>\n",
       "      <th>m1</th>\n",
       "      <th>m2</th>\n",
       "      <th>m3</th>\n",
       "      <th>m4</th>\n",
       "      <th>y</th>\n",
       "    </tr>\n",
       "  </thead>\n",
       "  <tbody>\n",
       "    <tr>\n",
       "      <th>m1</th>\n",
       "      <td>1.000000</td>\n",
       "      <td>0.952221</td>\n",
       "      <td>0.916929</td>\n",
       "      <td>0.977097</td>\n",
       "      <td>0.930666</td>\n",
       "    </tr>\n",
       "    <tr>\n",
       "      <th>m2</th>\n",
       "      <td>0.952221</td>\n",
       "      <td>1.000000</td>\n",
       "      <td>0.948784</td>\n",
       "      <td>0.986400</td>\n",
       "      <td>0.942220</td>\n",
       "    </tr>\n",
       "    <tr>\n",
       "      <th>m3</th>\n",
       "      <td>0.916929</td>\n",
       "      <td>0.948784</td>\n",
       "      <td>1.000000</td>\n",
       "      <td>0.975148</td>\n",
       "      <td>0.945299</td>\n",
       "    </tr>\n",
       "    <tr>\n",
       "      <th>m4</th>\n",
       "      <td>0.977097</td>\n",
       "      <td>0.986400</td>\n",
       "      <td>0.975148</td>\n",
       "      <td>1.000000</td>\n",
       "      <td>0.959038</td>\n",
       "    </tr>\n",
       "    <tr>\n",
       "      <th>y</th>\n",
       "      <td>0.930666</td>\n",
       "      <td>0.942220</td>\n",
       "      <td>0.945299</td>\n",
       "      <td>0.959038</td>\n",
       "      <td>1.000000</td>\n",
       "    </tr>\n",
       "  </tbody>\n",
       "</table>\n",
       "</div>"
      ],
      "text/plain": [
       "          m1        m2        m3        m4         y\n",
       "m1  1.000000  0.952221  0.916929  0.977097  0.930666\n",
       "m2  0.952221  1.000000  0.948784  0.986400  0.942220\n",
       "m3  0.916929  0.948784  1.000000  0.975148  0.945299\n",
       "m4  0.977097  0.986400  0.975148  1.000000  0.959038\n",
       "y   0.930666  0.942220  0.945299  0.959038  1.000000"
      ]
     },
     "execution_count": 141,
     "metadata": {},
     "output_type": "execute_result"
    }
   ],
   "source": [
    "df.corr()"
   ]
  },
  {
   "cell_type": "code",
   "execution_count": 142,
   "metadata": {},
   "outputs": [],
   "source": [
    "sample_submission.loc[:, 'isFraud'] = (pred_1 + pred_2 + pred_3)/3\n",
    "#sample_submission.loc[:, 'isFraud'] = (pred_1 + pred_2)/2\n",
    "#test_df.loc[:, 'isFraud'] = (w1/w)*pred_1 + (w2/w)*pred_2 + (w3/w)*pred_3"
   ]
  },
  {
   "cell_type": "code",
   "execution_count": 143,
   "metadata": {},
   "outputs": [
    {
     "data": {
      "text/plain": [
       "(506691, 2)"
      ]
     },
     "execution_count": 143,
     "metadata": {},
     "output_type": "execute_result"
    }
   ],
   "source": [
    "# 1779\n",
    "sample_submission.shape"
   ]
  },
  {
   "cell_type": "code",
   "execution_count": 144,
   "metadata": {},
   "outputs": [
    {
     "data": {
      "text/plain": [
       "'8463'"
      ]
     },
     "execution_count": 144,
     "metadata": {},
     "output_type": "execute_result"
    }
   ],
   "source": [
    "np.random.seed(np.random.randint(1, 10000))\n",
    "randidx = str(np.random.randint(0, 10000)).zfill(4)\n",
    "randidx"
   ]
  },
  {
   "cell_type": "code",
   "execution_count": 145,
   "metadata": {},
   "outputs": [],
   "source": [
    "sample_submission = sample_submission.reset_index()"
   ]
  },
  {
   "cell_type": "code",
   "execution_count": 146,
   "metadata": {},
   "outputs": [],
   "source": [
    "submission = sample_submission[['TransactionID','isFraud']]"
   ]
  },
  {
   "cell_type": "code",
   "execution_count": 147,
   "metadata": {},
   "outputs": [
    {
     "data": {
      "text/html": [
       "<div>\n",
       "<style scoped>\n",
       "    .dataframe tbody tr th:only-of-type {\n",
       "        vertical-align: middle;\n",
       "    }\n",
       "\n",
       "    .dataframe tbody tr th {\n",
       "        vertical-align: top;\n",
       "    }\n",
       "\n",
       "    .dataframe thead th {\n",
       "        text-align: right;\n",
       "    }\n",
       "</style>\n",
       "<table border=\"1\" class=\"dataframe\">\n",
       "  <thead>\n",
       "    <tr style=\"text-align: right;\">\n",
       "      <th></th>\n",
       "      <th>TransactionID</th>\n",
       "      <th>isFraud</th>\n",
       "    </tr>\n",
       "  </thead>\n",
       "  <tbody>\n",
       "    <tr>\n",
       "      <th>0</th>\n",
       "      <td>3663549</td>\n",
       "      <td>0.000545</td>\n",
       "    </tr>\n",
       "    <tr>\n",
       "      <th>1</th>\n",
       "      <td>3663550</td>\n",
       "      <td>0.002524</td>\n",
       "    </tr>\n",
       "    <tr>\n",
       "      <th>2</th>\n",
       "      <td>3663551</td>\n",
       "      <td>0.000819</td>\n",
       "    </tr>\n",
       "    <tr>\n",
       "      <th>3</th>\n",
       "      <td>3663552</td>\n",
       "      <td>0.001147</td>\n",
       "    </tr>\n",
       "    <tr>\n",
       "      <th>4</th>\n",
       "      <td>3663553</td>\n",
       "      <td>0.001439</td>\n",
       "    </tr>\n",
       "  </tbody>\n",
       "</table>\n",
       "</div>"
      ],
      "text/plain": [
       "   TransactionID   isFraud\n",
       "0        3663549  0.000545\n",
       "1        3663550  0.002524\n",
       "2        3663551  0.000819\n",
       "3        3663552  0.001147\n",
       "4        3663553  0.001439"
      ]
     },
     "execution_count": 147,
     "metadata": {},
     "output_type": "execute_result"
    }
   ],
   "source": [
    "submission.head(5)"
   ]
  },
  {
   "cell_type": "code",
   "execution_count": 148,
   "metadata": {},
   "outputs": [],
   "source": [
    "submission.to_csv('submission_{}.csv'.format(randidx), index=False)"
   ]
  },
  {
   "cell_type": "markdown",
   "metadata": {},
   "source": [
    "### see difference"
   ]
  },
  {
   "cell_type": "code",
   "execution_count": 33,
   "metadata": {},
   "outputs": [],
   "source": [
    "sub1_filename = 'submission_7981.csv'  # sub1_filename is always the latest submission\n",
    "sub2_filename = 'submission_2867.csv'  # sub2_filename is always the best submission"
   ]
  },
  {
   "cell_type": "code",
   "execution_count": 34,
   "metadata": {},
   "outputs": [
    {
     "data": {
      "text/plain": [
       "((506691, 2), (506691, 2))"
      ]
     },
     "execution_count": 34,
     "metadata": {},
     "output_type": "execute_result"
    }
   ],
   "source": [
    "sub1_df = pd.read_csv(sub1_filename)\n",
    "sub2_df = pd.read_csv(sub2_filename)\n",
    "sub1_df.shape, sub2_df.shape"
   ]
  },
  {
   "cell_type": "code",
   "execution_count": 35,
   "metadata": {},
   "outputs": [
    {
     "data": {
      "text/plain": [
       "0.005067019416986563"
      ]
     },
     "execution_count": 35,
     "metadata": {},
     "output_type": "execute_result"
    }
   ],
   "source": [
    "(sub1_df.isFraud - sub2_df.isFraud).apply(lambda x: x**2).mean()"
   ]
  },
  {
   "cell_type": "code",
   "execution_count": null,
   "metadata": {},
   "outputs": [],
   "source": []
  },
  {
   "cell_type": "markdown",
   "metadata": {},
   "source": [
    "#### 낙서장"
   ]
  },
  {
   "cell_type": "code",
   "execution_count": 11,
   "metadata": {},
   "outputs": [],
   "source": [
    "df = pd.DataFrame({\n",
    "    'm1': pred_1,\n",
    "    'm2': pred_2,\n",
    "    'm3': pred_3,\n",
    "    'y': sub2_df.isFraud\n",
    "})"
   ]
  },
  {
   "cell_type": "code",
   "execution_count": 13,
   "metadata": {},
   "outputs": [
    {
     "data": {
      "text/html": [
       "<div>\n",
       "<style scoped>\n",
       "    .dataframe tbody tr th:only-of-type {\n",
       "        vertical-align: middle;\n",
       "    }\n",
       "\n",
       "    .dataframe tbody tr th {\n",
       "        vertical-align: top;\n",
       "    }\n",
       "\n",
       "    .dataframe thead th {\n",
       "        text-align: right;\n",
       "    }\n",
       "</style>\n",
       "<table border=\"1\" class=\"dataframe\">\n",
       "  <thead>\n",
       "    <tr style=\"text-align: right;\">\n",
       "      <th></th>\n",
       "      <th>m1</th>\n",
       "      <th>m2</th>\n",
       "      <th>m3</th>\n",
       "      <th>y</th>\n",
       "    </tr>\n",
       "  </thead>\n",
       "  <tbody>\n",
       "    <tr>\n",
       "      <th>m1</th>\n",
       "      <td>1.000000</td>\n",
       "      <td>0.910568</td>\n",
       "      <td>0.878668</td>\n",
       "      <td>0.872243</td>\n",
       "    </tr>\n",
       "    <tr>\n",
       "      <th>m2</th>\n",
       "      <td>0.910568</td>\n",
       "      <td>1.000000</td>\n",
       "      <td>0.903126</td>\n",
       "      <td>0.892816</td>\n",
       "    </tr>\n",
       "    <tr>\n",
       "      <th>m3</th>\n",
       "      <td>0.878668</td>\n",
       "      <td>0.903126</td>\n",
       "      <td>1.000000</td>\n",
       "      <td>0.928377</td>\n",
       "    </tr>\n",
       "    <tr>\n",
       "      <th>y</th>\n",
       "      <td>0.872243</td>\n",
       "      <td>0.892816</td>\n",
       "      <td>0.928377</td>\n",
       "      <td>1.000000</td>\n",
       "    </tr>\n",
       "  </tbody>\n",
       "</table>\n",
       "</div>"
      ],
      "text/plain": [
       "          m1        m2        m3         y\n",
       "m1  1.000000  0.910568  0.878668  0.872243\n",
       "m2  0.910568  1.000000  0.903126  0.892816\n",
       "m3  0.878668  0.903126  1.000000  0.928377\n",
       "y   0.872243  0.892816  0.928377  1.000000"
      ]
     },
     "execution_count": 13,
     "metadata": {},
     "output_type": "execute_result"
    }
   ],
   "source": [
    "df.corr()"
   ]
  },
  {
   "cell_type": "code",
   "execution_count": null,
   "metadata": {},
   "outputs": [],
   "source": [
    "cate"
   ]
  },
  {
   "cell_type": "code",
   "execution_count": null,
   "metadata": {},
   "outputs": [],
   "source": []
  }
 ],
 "metadata": {
  "kernelspec": {
   "display_name": "Python 3",
   "language": "python",
   "name": "python3"
  },
  "language_info": {
   "codemirror_mode": {
    "name": "ipython",
    "version": 3
   },
   "file_extension": ".py",
   "mimetype": "text/x-python",
   "name": "python",
   "nbconvert_exporter": "python",
   "pygments_lexer": "ipython3",
   "version": "3.5.2"
  }
 },
 "nbformat": 4,
 "nbformat_minor": 2
}
