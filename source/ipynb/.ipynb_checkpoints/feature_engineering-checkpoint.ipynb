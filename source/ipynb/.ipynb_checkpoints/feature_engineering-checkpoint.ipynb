{
 "cells": [
  {
   "cell_type": "code",
   "execution_count": 1,
   "metadata": {},
   "outputs": [],
   "source": [
    "# https://www.kaggle.com/ysjf13/cis-fraud-detection-visualize-feature-engineering"
   ]
  },
  {
   "cell_type": "code",
   "execution_count": 2,
   "metadata": {},
   "outputs": [],
   "source": [
    "import sys;\n",
    "sys.path.insert(0, '../'); del sys"
   ]
  },
  {
   "cell_type": "code",
   "execution_count": 3,
   "metadata": {},
   "outputs": [],
   "source": [
    "import os\n",
    "import gc\n",
    "import time\n",
    "import numpy as np\n",
    "import pandas as pd\n",
    "import lightgbm as lgb\n",
    "import matplotlib.pyplot as plt\n",
    "import seaborn as sns\n",
    "\n",
    "from sklearn.preprocessing import LabelEncoder\n",
    "from build import train_model_classification\n",
    "from feature import make_categorical_feature\n",
    "from columns import cat_cols, num_cols\n",
    "from sklearn.model_selection import KFold, TimeSeriesSplit\n",
    "from tqdm import tqdm\n",
    "from sklearn.metrics import recall_score, precision_score, roc_auc_score\n",
    "from sklearn.naive_bayes import GaussianNB\n",
    "from scipy.stats import kurtosis, skew\n",
    "\n",
    "from sklearn.model_selection import StratifiedKFold, KFold, TimeSeriesSplit, train_test_split\n",
    "from sklearn.metrics import roc_auc_score\n",
    "from sklearn.tree import DecisionTreeClassifier"
   ]
  },
  {
   "cell_type": "code",
   "execution_count": 4,
   "metadata": {},
   "outputs": [],
   "source": [
    "low_impact_vxxx_column = ['V144', 'V127', 'V118', 'V132', 'V151', 'V122', 'V130', 'V109', 'V155', 'V147', 'V126', 'V120', 'V136', 'V137',\n",
    " 'V135', 'V154', 'V119', 'V108', 'V158', 'V111', 'V166', 'V110', 'V153', 'V129', 'V117', 'V143', 'V124', 'V160', 'V162', 'V159', 'V138',\n",
    " 'V139', 'V125', 'V140', 'V106', 'V134', 'V105', 'V104', 'V114', 'V142', 'V157', 'V148', 'V150', 'V107', 'V156', 'V165', 'V163', 'V123',\n",
    " 'V100', 'V113', 'V133', 'V115', 'V146', 'V121', 'V152', 'V116', 'V112', 'V128', 'V149', 'V141', 'V131', 'V145', 'V161', 'V164']\n",
    "mid_impact_vxxx_column = ['V101', 'V102', 'V103']\n",
    "high_impact_vxxx_column = ['V167', 'V168', 'V169', 'V170', 'V171', 'V172', 'V173', 'V174', 'V175', 'V176',\n",
    " 'V177', 'V178', 'V179', 'V180', 'V181', 'V182', 'V183', 'V184', 'V185', 'V186',\n",
    " 'V187', 'V188', 'V189', 'V190', 'V191', 'V192', 'V193', 'V194', 'V195', 'V196',\n",
    " 'V197', 'V198', 'V199']\n",
    "count_cols = ['C{}'.format(i) for i in range(1, 15)]\n",
    "delta_cols = ['D{}'.format(i) for i in range(1, 16)]\n",
    "match_cols = ['M{}'.format(i) for i in range(1, 10)]\n",
    "card_cols = ['card{}'.format(i) for i in range(1, 7)]\n",
    "vxxx0_cols = ['V{}'.format(i) for i in range(1, 100)]\n",
    "vxxx1_cols = ['V{}'.format(i) for i in range(100, 200)]\n",
    "vxxx2_cols = ['V{}'.format(i) for i in range(200, 300)]\n",
    "vxxx3_cols = ['V{}'.format(i) for i in range(300, 340)]\n",
    "vxxx_cols = vxxx0_cols + vxxx1_cols + vxxx2_cols + vxxx3_cols\n",
    "id_cols = ['id_{:02d}'.format(i) for i in range(1, 39)]\n",
    "dev_list = ['chrome', 'edge', 'mobile', 'ie', 'firefox', 'safari','samsung', 'opera', 'android', 'silk', 'other', 'google', 'blu/dash', 'facebook']\n",
    "info_list = ['blade', 'huawei', 'ios', 'lg', 'moto', 'rv', 'samsung', 'sm']"
   ]
  },
  {
   "cell_type": "code",
   "execution_count": 5,
   "metadata": {},
   "outputs": [],
   "source": [
    "use_sample = True"
   ]
  },
  {
   "cell_type": "code",
   "execution_count": 6,
   "metadata": {},
   "outputs": [],
   "source": [
    "if use_sample:\n",
    "    train_df = pd.read_csv('train_sample.csv')\n",
    "    test_df = pd.read_csv('test_sample.csv')\n",
    "else:\n",
    "    train_transaction = pd.read_csv('/data/ieee/train_transaction.csv.zip', compression='zip', index_col='TransactionID')\n",
    "    train_identity = pd.read_csv('/data/ieee/train_identity.csv.zip', compression='zip', index_col='TransactionID')\n",
    "    train_df = train_transaction.merge(train_identity, how='left', left_index=True, right_index=True)\n",
    "\n",
    "    test_transaction = pd.read_csv('/data/ieee/test_transaction.csv.zip', compression='zip', index_col='TransactionID')\n",
    "    test_identity = pd.read_csv('/data/ieee/test_identity.csv.zip', compression='zip', index_col='TransactionID')\n",
    "    test_df = test_transaction.merge(test_identity, how='left', left_index=True, right_index=True)"
   ]
  },
  {
   "cell_type": "code",
   "execution_count": 7,
   "metadata": {},
   "outputs": [],
   "source": [
    "def reduce_mem_usage(df, verbose=True):\n",
    "    numerics = ['int16', 'int32', 'int64', 'float16', 'float32', 'float64']\n",
    "    start_mem = df.memory_usage().sum() / 1024**2    \n",
    "    for col in tqdm(df.columns):\n",
    "        col_type = df[col].dtypes\n",
    "        if col_type in numerics:\n",
    "            c_min = df[col].min()\n",
    "            c_max = df[col].max()\n",
    "            if str(col_type)[:3] == 'int':\n",
    "                if c_min > np.iinfo(np.int8).min and c_max < np.iinfo(np.int8).max:\n",
    "                    df[col] = df[col].astype(np.int8)\n",
    "                elif c_min > np.iinfo(np.int16).min and c_max < np.iinfo(np.int16).max:\n",
    "                    df[col] = df[col].astype(np.int16)\n",
    "                elif c_min > np.iinfo(np.int32).min and c_max < np.iinfo(np.int32).max:\n",
    "                    df[col] = df[col].astype(np.int32)\n",
    "                elif c_min > np.iinfo(np.int64).min and c_max < np.iinfo(np.int64).max:\n",
    "                    df[col] = df[col].astype(np.int64)  \n",
    "            else:\n",
    "                if c_min > np.finfo(np.float16).min and c_max < np.finfo(np.float16).max:\n",
    "                    df[col] = df[col].astype(np.float16)\n",
    "                elif c_min > np.finfo(np.float32).min and c_max < np.finfo(np.float32).max:\n",
    "                    df[col] = df[col].astype(np.float32)\n",
    "                else:\n",
    "                    df[col] = df[col].astype(np.float64)    \n",
    "    end_mem = df.memory_usage().sum() / 1024**2\n",
    "    if verbose: \n",
    "        print('Mem. usage decreased to {:5.2f} Mb ({:.1f}% reduction)'.format(end_mem, 100 * (start_mem - end_mem) / start_mem))\n",
    "    return df"
   ]
  },
  {
   "cell_type": "code",
   "execution_count": 8,
   "metadata": {},
   "outputs": [
    {
     "name": "stderr",
     "output_type": "stream",
     "text": [
      "100%|██████████| 433/433 [01:39<00:00,  4.37it/s]\n",
      "  4%|▍         | 17/432 [00:00<00:02, 162.94it/s]"
     ]
    },
    {
     "name": "stdout",
     "output_type": "stream",
     "text": [
      "Mem. usage decreased to 668.22 Mb (66.2% reduction)\n"
     ]
    },
    {
     "name": "stderr",
     "output_type": "stream",
     "text": [
      "100%|██████████| 432/432 [01:28<00:00,  4.89it/s]"
     ]
    },
    {
     "name": "stdout",
     "output_type": "stream",
     "text": [
      "Mem. usage decreased to 583.43 Mb (65.6% reduction)\n"
     ]
    },
    {
     "name": "stderr",
     "output_type": "stream",
     "text": [
      "\n"
     ]
    }
   ],
   "source": [
    "train_df = reduce_mem_usage(train_df)\n",
    "test_df = reduce_mem_usage(test_df)"
   ]
  },
  {
   "cell_type": "code",
   "execution_count": 9,
   "metadata": {},
   "outputs": [],
   "source": [
    "def addNewFeatures(data): \n",
    "    data['uid'] = data['card1'].astype(str)+'_'+data['card2'].astype(str)\n",
    "\n",
    "    data['uid2'] = data['uid'].astype(str)+'_'+data['card3'].astype(str)+'_'+data['card5'].astype(str)\n",
    "\n",
    "    data['uid3'] = data['uid2'].astype(str)+'_'+data['addr1'].astype(str)+'_'+data['addr2'].astype(str)\n",
    "\n",
    "    data['D9'] = np.where(data['D9'].isna(),0,1)\n",
    "    \n",
    "    return data"
   ]
  },
  {
   "cell_type": "code",
   "execution_count": 10,
   "metadata": {},
   "outputs": [
    {
     "data": {
      "text/plain": [
       "((590540, 436), (506691, 435))"
      ]
     },
     "execution_count": 10,
     "metadata": {},
     "output_type": "execute_result"
    }
   ],
   "source": [
    "train_df = addNewFeatures(train_df)\n",
    "test_df = addNewFeatures(test_df)\n",
    "train_df.shape, test_df.shape"
   ]
  },
  {
   "cell_type": "code",
   "execution_count": 11,
   "metadata": {},
   "outputs": [
    {
     "name": "stderr",
     "output_type": "stream",
     "text": [
      "100%|██████████| 7/7 [00:04<00:00,  1.65it/s]\n"
     ]
    }
   ],
   "source": [
    "i_cols = ['card1','card2','card3','card5','uid','uid2','uid3']\n",
    "\n",
    "for col in tqdm(i_cols):\n",
    "    for agg_type in ['mean','std']:\n",
    "        new_col_name = col+'_TransactionAmt_'+agg_type\n",
    "        temp_df = pd.concat([train_df[[col, 'TransactionAmt']], test_df[[col,'TransactionAmt']]])\n",
    "        #temp_df['TransactionAmt'] = temp_df['TransactionAmt'].astype(int)\n",
    "        temp_df = temp_df.groupby([col])['TransactionAmt'].agg([agg_type]).reset_index().rename(\n",
    "                                                columns={agg_type: new_col_name})\n",
    "\n",
    "        temp_df.index = list(temp_df[col])\n",
    "        temp_df = temp_df[new_col_name].to_dict()   \n",
    "\n",
    "        train_df[new_col_name] = train_df[col].map(temp_df)\n",
    "        test_df[new_col_name]  = test_df[col].map(temp_df)"
   ]
  },
  {
   "cell_type": "code",
   "execution_count": 12,
   "metadata": {},
   "outputs": [
    {
     "data": {
      "text/plain": [
       "((590540, 450), (506691, 449))"
      ]
     },
     "execution_count": 12,
     "metadata": {},
     "output_type": "execute_result"
    }
   ],
   "source": [
    "train_df = train_df.replace(np.inf,999)\n",
    "test_df = test_df.replace(np.inf,999)\n",
    "train_df.shape, test_df.shape"
   ]
  },
  {
   "cell_type": "code",
   "execution_count": 13,
   "metadata": {},
   "outputs": [],
   "source": [
    "train_df['TransactionAmt'] = np.log1p(train_df['TransactionAmt'])\n",
    "test_df['TransactionAmt'] = np.log1p(test_df['TransactionAmt'])"
   ]
  },
  {
   "cell_type": "code",
   "execution_count": 14,
   "metadata": {},
   "outputs": [],
   "source": [
    "emails = {'gmail': 'google', 'att.net': 'att', 'twc.com': 'spectrum', 'scranton.edu': 'other', 'optonline.net': 'other',\n",
    "          'hotmail.co.uk': 'microsoft', 'comcast.net': 'other', 'yahoo.com.mx': 'yahoo', 'yahoo.fr': 'yahoo',\n",
    "          'yahoo.es': 'yahoo', 'charter.net': 'spectrum', 'live.com': 'microsoft', 'aim.com': 'aol', 'hotmail.de': 'microsoft',\n",
    "          'centurylink.net': 'centurylink', 'gmail.com': 'google', 'me.com': 'apple', 'earthlink.net': 'other', \n",
    "          'gmx.de': 'other', 'web.de': 'other', 'cfl.rr.com': 'other', 'hotmail.com': 'microsoft', 'protonmail.com': 'other',\n",
    "          'hotmail.fr': 'microsoft', 'windstream.net': 'other', 'outlook.es': 'microsoft', 'yahoo.co.jp': 'yahoo',\n",
    "          'yahoo.de': 'yahoo', 'servicios-ta.com': 'other', 'netzero.net': 'other', 'suddenlink.net': 'other',\n",
    "          'roadrunner.com': 'other', 'sc.rr.com': 'other', 'live.fr': 'microsoft', 'verizon.net': 'yahoo',\n",
    "          'msn.com': 'microsoft', 'q.com': 'centurylink', 'prodigy.net.mx': 'att', 'frontier.com': 'yahoo',\n",
    "          'anonymous.com': 'other', 'rocketmail.com': 'yahoo', 'sbcglobal.net': 'att', 'frontiernet.net': 'yahoo',\n",
    "          'ymail.com': 'yahoo', 'outlook.com': 'microsoft', 'mail.com': 'other', 'bellsouth.net': 'other',\n",
    "          'embarqmail.com': 'centurylink', 'cableone.net': 'other', 'hotmail.es': 'microsoft', 'mac.com': 'apple',\n",
    "          'yahoo.co.uk': 'yahoo', 'netzero.com': 'other', 'yahoo.com': 'yahoo', 'live.com.mx': 'microsoft', 'ptd.net': 'other',\n",
    "          'cox.net': 'other', 'aol.com': 'aol', 'juno.com': 'other', 'icloud.com': 'apple'}\n",
    "us_emails = ['gmail', 'net', 'edu']"
   ]
  },
  {
   "cell_type": "code",
   "execution_count": 15,
   "metadata": {},
   "outputs": [],
   "source": [
    "for c in ['P_emaildomain', 'R_emaildomain']:\n",
    "    train_df[c + '_bin'] = train_df[c].map(emails)\n",
    "    test_df[c + '_bin'] = test_df[c].map(emails)\n",
    "    \n",
    "    train_df[c + '_suffix'] = train_df[c].map(lambda x: str(x).split('.')[-1])\n",
    "    test_df[c + '_suffix'] = test_df[c].map(lambda x: str(x).split('.')[-1])\n",
    "    \n",
    "    train_df[c + '_suffix'] = train_df[c + '_suffix'].map(lambda x: x if str(x) not in us_emails else 'us')\n",
    "    test_df[c + '_suffix'] = test_df[c + '_suffix'].map(lambda x: x if str(x) not in us_emails else 'us')"
   ]
  },
  {
   "cell_type": "code",
   "execution_count": 16,
   "metadata": {},
   "outputs": [
    {
     "data": {
      "text/plain": [
       "((590540, 454), (506691, 453))"
      ]
     },
     "execution_count": 16,
     "metadata": {},
     "output_type": "execute_result"
    }
   ],
   "source": [
    "train_df.shape, test_df.shape"
   ]
  },
  {
   "cell_type": "code",
   "execution_count": 17,
   "metadata": {},
   "outputs": [],
   "source": [
    "p = 'P_emaildomain'\n",
    "r = 'R_emaildomain'\n",
    "uknown = 'email_not_provided'"
   ]
  },
  {
   "cell_type": "code",
   "execution_count": 18,
   "metadata": {},
   "outputs": [],
   "source": [
    "def setDomain(df):\n",
    "    df[p] = df[p].fillna(uknown)\n",
    "    df[r] = df[r].fillna(uknown)\n",
    "    \n",
    "    # Check if P_emaildomain matches R_emaildomain\n",
    "    df['email_check'] = np.where((df[p]==df[r])&(df[p]!=uknown),1,0)\n",
    "\n",
    "    df[p+'_prefix'] = df[p].apply(lambda x: x.split('.')[0])\n",
    "    df[r+'_prefix'] = df[r].apply(lambda x: x.split('.')[0])\n",
    "    \n",
    "    return df"
   ]
  },
  {
   "cell_type": "code",
   "execution_count": 19,
   "metadata": {},
   "outputs": [
    {
     "data": {
      "text/plain": [
       "((590540, 457), (506691, 456))"
      ]
     },
     "execution_count": 19,
     "metadata": {},
     "output_type": "execute_result"
    }
   ],
   "source": [
    "train_df = setDomain(train_df)\n",
    "test_df = setDomain(test_df)\n",
    "train_df.shape, test_df.shape"
   ]
  },
  {
   "cell_type": "code",
   "execution_count": 20,
   "metadata": {},
   "outputs": [],
   "source": [
    "import datetime\n",
    "START_DATE = datetime.datetime.strptime('2017-11-30', '%Y-%m-%d')\n",
    "def setTime(df):\n",
    "    df['TransactionDT'] = df['TransactionDT'].fillna(df['TransactionDT'].median())\n",
    "    # Temporary\n",
    "    df['DT'] = df['TransactionDT'].apply(lambda x: (START_DATE + datetime.timedelta(seconds = x)))\n",
    "    df['DT_M'] = (df['DT'].dt.year-2017)*12 + df['DT'].dt.month\n",
    "    df['DT_W'] = (df['DT'].dt.year-2017)*52 + df['DT'].dt.weekofyear\n",
    "    df['DT_D'] = (df['DT'].dt.year-2017)*365 + df['DT'].dt.dayofyear\n",
    "    \n",
    "    df['DT_hour'] = df['DT'].dt.hour\n",
    "    df['DT_day_week'] = df['DT'].dt.dayofweek\n",
    "    df['DT_day'] = df['DT'].dt.day\n",
    "    \n",
    "    return df"
   ]
  },
  {
   "cell_type": "code",
   "execution_count": 21,
   "metadata": {},
   "outputs": [
    {
     "data": {
      "text/plain": [
       "((590540, 464), (506691, 463))"
      ]
     },
     "execution_count": 21,
     "metadata": {},
     "output_type": "execute_result"
    }
   ],
   "source": [
    "train_df = setTime(train_df)\n",
    "test_df = setTime(test_df)\n",
    "train_df.shape, test_df.shape"
   ]
  },
  {
   "cell_type": "code",
   "execution_count": 22,
   "metadata": {},
   "outputs": [],
   "source": [
    "train_df[\"lastest_browser\"] = np.zeros(train_df.shape[0])\n",
    "test_df[\"lastest_browser\"] = np.zeros(test_df.shape[0])"
   ]
  },
  {
   "cell_type": "code",
   "execution_count": 23,
   "metadata": {},
   "outputs": [],
   "source": [
    "def setBrowser(df):\n",
    "    df.loc[df[\"id_31\"]==\"samsung browser 7.0\",'lastest_browser']=1\n",
    "    df.loc[df[\"id_31\"]==\"opera 53.0\",'lastest_browser']=1\n",
    "    df.loc[df[\"id_31\"]==\"mobile safari 10.0\",'lastest_browser']=1\n",
    "    df.loc[df[\"id_31\"]==\"google search application 49.0\",'lastest_browser']=1\n",
    "    df.loc[df[\"id_31\"]==\"firefox 60.0\",'lastest_browser']=1\n",
    "    df.loc[df[\"id_31\"]==\"edge 17.0\",'lastest_browser']=1\n",
    "    df.loc[df[\"id_31\"]==\"chrome 69.0\",'lastest_browser']=1\n",
    "    df.loc[df[\"id_31\"]==\"chrome 67.0 for android\",'lastest_browser']=1\n",
    "    df.loc[df[\"id_31\"]==\"chrome 63.0 for android\",'lastest_browser']=1\n",
    "    df.loc[df[\"id_31\"]==\"chrome 63.0 for ios\",'lastest_browser']=1\n",
    "    df.loc[df[\"id_31\"]==\"chrome 64.0\",'lastest_browser']=1\n",
    "    df.loc[df[\"id_31\"]==\"chrome 64.0 for android\",'lastest_browser']=1\n",
    "    df.loc[df[\"id_31\"]==\"chrome 64.0 for ios\",'lastest_browser']=1\n",
    "    df.loc[df[\"id_31\"]==\"chrome 65.0\",'lastest_browser']=1\n",
    "    df.loc[df[\"id_31\"]==\"chrome 65.0 for android\",'lastest_browser']=1\n",
    "    df.loc[df[\"id_31\"]==\"chrome 65.0 for ios\",'lastest_browser']=1\n",
    "    df.loc[df[\"id_31\"]==\"chrome 66.0\",'lastest_browser']=1\n",
    "    df.loc[df[\"id_31\"]==\"chrome 66.0 for android\",'lastest_browser']=1\n",
    "    df.loc[df[\"id_31\"]==\"chrome 66.0 for ios\",'lastest_browser']=1\n",
    "    return df"
   ]
  },
  {
   "cell_type": "code",
   "execution_count": 24,
   "metadata": {},
   "outputs": [
    {
     "data": {
      "text/plain": [
       "((590540, 465), (506691, 464))"
      ]
     },
     "execution_count": 24,
     "metadata": {},
     "output_type": "execute_result"
    }
   ],
   "source": [
    "train_df = setBrowser(train_df)\n",
    "test_df = setBrowser(test_df)\n",
    "train_df.shape, test_df.shape"
   ]
  },
  {
   "cell_type": "code",
   "execution_count": 25,
   "metadata": {},
   "outputs": [],
   "source": [
    "def setDevice(df):\n",
    "    df['DeviceInfo'] = df['DeviceInfo'].fillna('unknown_device').str.lower()\n",
    "    \n",
    "    df['device_name'] = df['DeviceInfo'].str.split('/', expand=True)[0]\n",
    "\n",
    "    df.loc[df['device_name'].str.contains('SM', na=False), 'device_name'] = 'Samsung'\n",
    "    df.loc[df['device_name'].str.contains('SAMSUNG', na=False), 'device_name'] = 'Samsung'\n",
    "    df.loc[df['device_name'].str.contains('GT-', na=False), 'device_name'] = 'Samsung'\n",
    "    df.loc[df['device_name'].str.contains('Moto G', na=False), 'device_name'] = 'Motorola'\n",
    "    df.loc[df['device_name'].str.contains('Moto', na=False), 'device_name'] = 'Motorola'\n",
    "    df.loc[df['device_name'].str.contains('moto', na=False), 'device_name'] = 'Motorola'\n",
    "    df.loc[df['device_name'].str.contains('LG-', na=False), 'device_name'] = 'LG'\n",
    "    df.loc[df['device_name'].str.contains('rv:', na=False), 'device_name'] = 'RV'\n",
    "    df.loc[df['device_name'].str.contains('HUAWEI', na=False), 'device_name'] = 'Huawei'\n",
    "    df.loc[df['device_name'].str.contains('ALE-', na=False), 'device_name'] = 'Huawei'\n",
    "    df.loc[df['device_name'].str.contains('-L', na=False), 'device_name'] = 'Huawei'\n",
    "    df.loc[df['device_name'].str.contains('Blade', na=False), 'device_name'] = 'ZTE'\n",
    "    df.loc[df['device_name'].str.contains('BLADE', na=False), 'device_name'] = 'ZTE'\n",
    "    df.loc[df['device_name'].str.contains('Linux', na=False), 'device_name'] = 'Linux'\n",
    "    df.loc[df['device_name'].str.contains('XT', na=False), 'device_name'] = 'Sony'\n",
    "    df.loc[df['device_name'].str.contains('HTC', na=False), 'device_name'] = 'HTC'\n",
    "    df.loc[df['device_name'].str.contains('ASUS', na=False), 'device_name'] = 'Asus'\n",
    "\n",
    "    df.loc[df.device_name.isin(df.device_name.value_counts()[df.device_name.value_counts() < 200].index), 'device_name'] = \"Others\"\n",
    "    df['had_id'] = 1\n",
    "    gc.collect()\n",
    "    \n",
    "    return df"
   ]
  },
  {
   "cell_type": "code",
   "execution_count": 26,
   "metadata": {},
   "outputs": [
    {
     "data": {
      "text/plain": [
       "((590540, 467), (506691, 466))"
      ]
     },
     "execution_count": 26,
     "metadata": {},
     "output_type": "execute_result"
    }
   ],
   "source": [
    "train_df = setDevice(train_df)\n",
    "test_df = setDevice(test_df)\n",
    "train_df.shape, test_df.shape"
   ]
  },
  {
   "cell_type": "code",
   "execution_count": 27,
   "metadata": {},
   "outputs": [],
   "source": [
    "i_cols = ['card1','card2','card3','card5',\n",
    "          'C1','C2','C3','C4','C5','C6','C7','C8','C9','C10','C11','C12','C13','C14',\n",
    "          'D1','D2','D3','D4','D5','D6','D7','D8',\n",
    "          'addr1','addr2',\n",
    "          'dist1','dist2',\n",
    "          'P_emaildomain', 'R_emaildomain',\n",
    "          'DeviceInfo','device_name',\n",
    "          'id_30','id_33',\n",
    "          'uid','uid2','uid3',\n",
    "         ]"
   ]
  },
  {
   "cell_type": "code",
   "execution_count": 28,
   "metadata": {},
   "outputs": [
    {
     "name": "stderr",
     "output_type": "stream",
     "text": [
      "100%|██████████| 39/39 [00:08<00:00,  4.58it/s]\n"
     ]
    }
   ],
   "source": [
    "for col in tqdm(i_cols):\n",
    "    temp_df = pd.concat([train_df[[col]], test_df[[col]]])\n",
    "    fq_encode = temp_df[col].value_counts(dropna=False).to_dict()   \n",
    "    train_df[col+'_fq_enc'] = train_df[col].map(fq_encode)\n",
    "    test_df[col+'_fq_enc']  = test_df[col].map(fq_encode)"
   ]
  },
  {
   "cell_type": "code",
   "execution_count": 29,
   "metadata": {},
   "outputs": [
    {
     "data": {
      "text/plain": [
       "((590540, 506), (506691, 505))"
      ]
     },
     "execution_count": 29,
     "metadata": {},
     "output_type": "execute_result"
    }
   ],
   "source": [
    "train_df.shape, test_df.shape"
   ]
  },
  {
   "cell_type": "code",
   "execution_count": 30,
   "metadata": {},
   "outputs": [],
   "source": [
    "for col in ['DT_M','DT_W','DT_D']:\n",
    "    temp_df = pd.concat([train_df[[col]], test_df[[col]]])\n",
    "    fq_encode = temp_df[col].value_counts().to_dict()\n",
    "            \n",
    "    train_df[col+'_total'] = train_df[col].map(fq_encode)\n",
    "    test_df[col+'_total']  = test_df[col].map(fq_encode) "
   ]
  },
  {
   "cell_type": "code",
   "execution_count": 31,
   "metadata": {},
   "outputs": [
    {
     "data": {
      "text/plain": [
       "((590540, 509), (506691, 508))"
      ]
     },
     "execution_count": 31,
     "metadata": {},
     "output_type": "execute_result"
    }
   ],
   "source": [
    "train_df.shape, test_df.shape"
   ]
  },
  {
   "cell_type": "code",
   "execution_count": 32,
   "metadata": {},
   "outputs": [
    {
     "name": "stderr",
     "output_type": "stream",
     "text": [
      "100%|██████████| 3/3 [00:08<00:00,  2.80s/it]\n"
     ]
    }
   ],
   "source": [
    "periods = ['DT_M','DT_W','DT_D']\n",
    "i_cols = ['uid']\n",
    "for period in tqdm(periods):\n",
    "    for col in i_cols:\n",
    "        new_column = col + '_' + period\n",
    "            \n",
    "        temp_df = pd.concat([train_df[[col,period]], test_df[[col,period]]])\n",
    "        temp_df[new_column] = temp_df[col].astype(str) + '_' + (temp_df[period]).astype(str)\n",
    "        fq_encode = temp_df[new_column].value_counts().to_dict()\n",
    "            \n",
    "        train_df[new_column] = (train_df[col].astype(str) + '_' + train_df[period].astype(str)).map(fq_encode)\n",
    "        test_df[new_column]  = (test_df[col].astype(str) + '_' + test_df[period].astype(str)).map(fq_encode)\n",
    "        \n",
    "        train_df[new_column] /= train_df[period+'_total']\n",
    "        test_df[new_column]  /= test_df[period+'_total']"
   ]
  },
  {
   "cell_type": "code",
   "execution_count": 33,
   "metadata": {},
   "outputs": [],
   "source": [
    "def get_too_many_null_attr(data):\n",
    "    many_null_cols = [col for col in data.columns if data[col].isnull().sum() / data.shape[0] > 0.9]\n",
    "    return many_null_cols"
   ]
  },
  {
   "cell_type": "code",
   "execution_count": 34,
   "metadata": {},
   "outputs": [],
   "source": [
    "def get_too_many_repeated_val(data):\n",
    "    big_top_value_cols = [col for col in train_df.columns if train_df[col].value_counts(dropna=False, normalize=True).values[0] > 0.9]\n",
    "    return big_top_value_cols"
   ]
  },
  {
   "cell_type": "code",
   "execution_count": 35,
   "metadata": {},
   "outputs": [],
   "source": [
    "def get_useless_columns(data):\n",
    "    too_many_null = get_too_many_null_attr(data)\n",
    "    print(\"More than 90% null: \" + str(len(too_many_null)))\n",
    "    too_many_repeated = get_too_many_repeated_val(data)\n",
    "    print(\"More than 90% repeated value: \" + str(len(too_many_repeated)))\n",
    "    cols_to_drop = list(set(too_many_null + too_many_repeated))\n",
    "    cols_to_drop.remove('isFraud')\n",
    "    return cols_to_drop"
   ]
  },
  {
   "cell_type": "code",
   "execution_count": 36,
   "metadata": {},
   "outputs": [
    {
     "name": "stdout",
     "output_type": "stream",
     "text": [
      "More than 90% null: 12\n",
      "More than 90% repeated value: 72\n"
     ]
    }
   ],
   "source": [
    "cols_to_drop = get_useless_columns(train_df)"
   ]
  },
  {
   "cell_type": "code",
   "execution_count": 37,
   "metadata": {},
   "outputs": [
    {
     "data": {
      "text/plain": [
       "((590540, 441), (506691, 440))"
      ]
     },
     "execution_count": 37,
     "metadata": {},
     "output_type": "execute_result"
    }
   ],
   "source": [
    "train_df = train_df.drop(cols_to_drop, axis=1)\n",
    "test_df = test_df.drop(cols_to_drop, axis=1)\n",
    "train_df.shape, test_df.shape"
   ]
  },
  {
   "cell_type": "code",
   "execution_count": null,
   "metadata": {},
   "outputs": [],
   "source": []
  },
  {
   "cell_type": "markdown",
   "metadata": {},
   "source": [
    "### run pipeline to make features"
   ]
  },
  {
   "cell_type": "code",
   "execution_count": 38,
   "metadata": {},
   "outputs": [],
   "source": [
    "class ModifiedLabelEncoder(LabelEncoder):\n",
    "    def fit_transform(self, y, *args, **kwargs):\n",
    "        return super().fit_transform(y).reshape(-1, 1)\n",
    "\n",
    "    def transform(self, y, *args, **kwargs):\n",
    "        return super().transform(y).reshape(-1, 1)"
   ]
  },
  {
   "cell_type": "code",
   "execution_count": 39,
   "metadata": {},
   "outputs": [],
   "source": [
    "from sklearn.base import BaseEstimator, TransformerMixin\n",
    "class DataFrameSelector(BaseEstimator, TransformerMixin):\n",
    "    def __init__(self, attr):\n",
    "        self.attributes = attr\n",
    "    def fit(self, X, y=None):\n",
    "        return self\n",
    "    def transform(self, X):\n",
    "        return X[self.attributes].values"
   ]
  },
  {
   "cell_type": "code",
   "execution_count": 40,
   "metadata": {},
   "outputs": [],
   "source": [
    "noisy_cols = [\n",
    "    #'TransactionID',\n",
    "    'TransactionDT',                      # Not target in features))\n",
    "    'uid','uid2','uid3',                                 \n",
    "    'DT','DT_M','DT_W','DT_D',       \n",
    "    'DT_hour','DT_day_week','DT_day',\n",
    "    'DT_D_total','DT_W_total','DT_M_total',\n",
    "    'id_30','id_31','id_33',\n",
    "]"
   ]
  },
  {
   "cell_type": "code",
   "execution_count": 41,
   "metadata": {},
   "outputs": [],
   "source": [
    "noisy_cat_cols = list(train_df[noisy_cols].select_dtypes(include=['object']).columns) \n",
    "noisy_num_cold = list(train_df[noisy_cols].select_dtypes(exclude=['object']).columns)"
   ]
  },
  {
   "cell_type": "code",
   "execution_count": 42,
   "metadata": {},
   "outputs": [],
   "source": [
    "cat_attr = list(train_df.select_dtypes(include=['object']).columns)\n",
    "num_attr = list(train_df.select_dtypes(exclude=['object']).columns)\n",
    "num_attr.remove('isFraud')"
   ]
  },
  {
   "cell_type": "code",
   "execution_count": 43,
   "metadata": {},
   "outputs": [
    {
     "name": "stdout",
     "output_type": "stream",
     "text": [
      "Deleting uid\n",
      "Deleting uid2\n",
      "Deleting uid3\n",
      "Deleting id_30\n",
      "Deleting id_31\n",
      "Deleting id_33\n",
      "Deleting TransactionDT\n",
      "Deleting DT\n",
      "Deleting DT_M\n",
      "Deleting DT_W\n",
      "Deleting DT_D\n",
      "Deleting DT_hour\n",
      "Deleting DT_day_week\n",
      "Deleting DT_day\n",
      "Deleting DT_D_total\n",
      "Deleting DT_W_total\n",
      "Deleting DT_M_total\n"
     ]
    }
   ],
   "source": [
    "for col in noisy_cat_cols:\n",
    "    if col in cat_attr:\n",
    "        print(\"Deleting \" + col)\n",
    "        cat_attr.remove(col)\n",
    "for col in noisy_num_cold:\n",
    "    if col in num_attr:\n",
    "        print(\"Deleting \" + col)\n",
    "        num_attr.remove(col)"
   ]
  },
  {
   "cell_type": "code",
   "execution_count": 44,
   "metadata": {},
   "outputs": [],
   "source": [
    "from sklearn.pipeline import Pipeline, FeatureUnion\n",
    "from sklearn.impute import SimpleImputer\n",
    "from sklearn.preprocessing import StandardScaler\n",
    "num_pipeline = Pipeline([\n",
    "        ('selector', DataFrameSelector(num_attr)),\n",
    "        ('imputer', SimpleImputer(strategy=\"median\")),\n",
    "        ('scaler', StandardScaler()),\n",
    "    ]) \n",
    "\n",
    "cat_pipeline = Pipeline([\n",
    "        ('selector', DataFrameSelector(cat_attr)),\n",
    "        ('imputer', SimpleImputer(strategy=\"most_frequent\")),\n",
    "    ])\n",
    "\n",
    "\n",
    "full_pipeline = FeatureUnion(transformer_list=[\n",
    "    ('num_pipeline', num_pipeline),\n",
    "    ('cat_pipeline', cat_pipeline),\n",
    "])"
   ]
  },
  {
   "cell_type": "code",
   "execution_count": 45,
   "metadata": {},
   "outputs": [],
   "source": [
    "from sklearn import preprocessing\n",
    "def encodeCategorical(df_train, df_test):\n",
    "    for f in tqdm(df_train.drop('isFraud', axis=1).columns):\n",
    "        if df_train[f].dtype=='object' or df_test[f].dtype=='object': \n",
    "            lbl = preprocessing.LabelEncoder()\n",
    "            lbl.fit(list(df_train[f].values) + list(df_test[f].values))\n",
    "            df_train[f] = lbl.transform(list(df_train[f].values))\n",
    "            df_test[f] = lbl.transform(list(df_test[f].values))\n",
    "    return df_train, df_test"
   ]
  },
  {
   "cell_type": "code",
   "execution_count": 46,
   "metadata": {},
   "outputs": [
    {
     "name": "stderr",
     "output_type": "stream",
     "text": [
      "100%|██████████| 440/440 [00:54<00:00,  8.06it/s]\n"
     ]
    }
   ],
   "source": [
    "y_train = train_df['isFraud']\n",
    "train_df, test_df = encodeCategorical(train_df, test_df)"
   ]
  },
  {
   "cell_type": "code",
   "execution_count": 47,
   "metadata": {},
   "outputs": [
    {
     "data": {
      "text/plain": [
       "((590540, 441), (506691, 440))"
      ]
     },
     "execution_count": 47,
     "metadata": {},
     "output_type": "execute_result"
    }
   ],
   "source": [
    "train_df.shape, test_df.shape"
   ]
  },
  {
   "cell_type": "code",
   "execution_count": null,
   "metadata": {},
   "outputs": [],
   "source": []
  },
  {
   "cell_type": "markdown",
   "metadata": {},
   "source": [
    "### make final train/test dataframe"
   ]
  },
  {
   "cell_type": "code",
   "execution_count": 48,
   "metadata": {},
   "outputs": [
    {
     "data": {
      "text/plain": [
       "(['TransactionAmt', 'card1', 'card2', 'card3'], 423)"
      ]
     },
     "execution_count": 48,
     "metadata": {},
     "output_type": "execute_result"
    }
   ],
   "source": [
    "final_columns = num_attr + cat_attr\n",
    "final_columns[:4], len(final_columns)"
   ]
  },
  {
   "cell_type": "code",
   "execution_count": 49,
   "metadata": {},
   "outputs": [
    {
     "data": {
      "text/plain": [
       "27"
      ]
     },
     "execution_count": 49,
     "metadata": {},
     "output_type": "execute_result"
    }
   ],
   "source": [
    "X_train = pd.DataFrame(full_pipeline.fit_transform(train_df))\n",
    "gc.collect()"
   ]
  },
  {
   "cell_type": "code",
   "execution_count": 50,
   "metadata": {},
   "outputs": [],
   "source": [
    "# test = test.drop(cols_to_drop, axis=1)\n",
    "X_test = pd.DataFrame(full_pipeline.transform(test_df))"
   ]
  },
  {
   "cell_type": "code",
   "execution_count": 51,
   "metadata": {},
   "outputs": [],
   "source": [
    "X_train.columns = final_columns\n",
    "X_test.columns = final_columns"
   ]
  },
  {
   "cell_type": "code",
   "execution_count": 52,
   "metadata": {},
   "outputs": [
    {
     "data": {
      "text/html": [
       "<div>\n",
       "<style scoped>\n",
       "    .dataframe tbody tr th:only-of-type {\n",
       "        vertical-align: middle;\n",
       "    }\n",
       "\n",
       "    .dataframe tbody tr th {\n",
       "        vertical-align: top;\n",
       "    }\n",
       "\n",
       "    .dataframe thead th {\n",
       "        text-align: right;\n",
       "    }\n",
       "</style>\n",
       "<table border=\"1\" class=\"dataframe\">\n",
       "  <thead>\n",
       "    <tr style=\"text-align: right;\">\n",
       "      <th></th>\n",
       "      <th>TransactionAmt</th>\n",
       "      <th>card1</th>\n",
       "      <th>card2</th>\n",
       "      <th>card3</th>\n",
       "      <th>card5</th>\n",
       "      <th>addr1</th>\n",
       "      <th>addr2</th>\n",
       "      <th>dist1</th>\n",
       "      <th>C1</th>\n",
       "      <th>C2</th>\n",
       "      <th>...</th>\n",
       "      <th>id_38</th>\n",
       "      <th>DeviceType</th>\n",
       "      <th>DeviceInfo</th>\n",
       "      <th>P_emaildomain_bin</th>\n",
       "      <th>P_emaildomain_suffix</th>\n",
       "      <th>R_emaildomain_bin</th>\n",
       "      <th>R_emaildomain_suffix</th>\n",
       "      <th>P_emaildomain_prefix</th>\n",
       "      <th>R_emaildomain_prefix</th>\n",
       "      <th>device_name</th>\n",
       "    </tr>\n",
       "  </thead>\n",
       "  <tbody>\n",
       "    <tr>\n",
       "      <th>0</th>\n",
       "      <td>-0.150137</td>\n",
       "      <td>0.821695</td>\n",
       "      <td>-0.009783</td>\n",
       "      <td>-0.281425</td>\n",
       "      <td>-1.396380</td>\n",
       "      <td>0.243321</td>\n",
       "      <td>0.069833</td>\n",
       "      <td>-0.138579</td>\n",
       "      <td>-0.098021</td>\n",
       "      <td>-0.092260</td>\n",
       "      <td>...</td>\n",
       "      <td>2.0</td>\n",
       "      <td>2.0</td>\n",
       "      <td>2564.0</td>\n",
       "      <td>6.0</td>\n",
       "      <td>6.0</td>\n",
       "      <td>6.0</td>\n",
       "      <td>6.0</td>\n",
       "      <td>12.0</td>\n",
       "      <td>12.0</td>\n",
       "      <td>25.0</td>\n",
       "    </tr>\n",
       "    <tr>\n",
       "      <th>1</th>\n",
       "      <td>-1.048357</td>\n",
       "      <td>-1.457558</td>\n",
       "      <td>0.264810</td>\n",
       "      <td>-0.281425</td>\n",
       "      <td>-2.368254</td>\n",
       "      <td>0.347543</td>\n",
       "      <td>0.069833</td>\n",
       "      <td>-0.183967</td>\n",
       "      <td>-0.098021</td>\n",
       "      <td>-0.092260</td>\n",
       "      <td>...</td>\n",
       "      <td>2.0</td>\n",
       "      <td>2.0</td>\n",
       "      <td>2564.0</td>\n",
       "      <td>4.0</td>\n",
       "      <td>0.0</td>\n",
       "      <td>6.0</td>\n",
       "      <td>6.0</td>\n",
       "      <td>16.0</td>\n",
       "      <td>12.0</td>\n",
       "      <td>25.0</td>\n",
       "    </tr>\n",
       "    <tr>\n",
       "      <th>2</th>\n",
       "      <td>-0.308524</td>\n",
       "      <td>-1.068263</td>\n",
       "      <td>0.813997</td>\n",
       "      <td>-0.281425</td>\n",
       "      <td>-0.813255</td>\n",
       "      <td>0.399654</td>\n",
       "      <td>0.069833</td>\n",
       "      <td>0.967241</td>\n",
       "      <td>-0.098021</td>\n",
       "      <td>-0.092260</td>\n",
       "      <td>...</td>\n",
       "      <td>2.0</td>\n",
       "      <td>2.0</td>\n",
       "      <td>2564.0</td>\n",
       "      <td>5.0</td>\n",
       "      <td>0.0</td>\n",
       "      <td>6.0</td>\n",
       "      <td>6.0</td>\n",
       "      <td>28.0</td>\n",
       "      <td>12.0</td>\n",
       "      <td>25.0</td>\n",
       "    </tr>\n",
       "    <tr>\n",
       "      <th>3</th>\n",
       "      <td>-0.481499</td>\n",
       "      <td>1.679858</td>\n",
       "      <td>1.305711</td>\n",
       "      <td>-0.281425</td>\n",
       "      <td>-2.003802</td>\n",
       "      <td>1.921291</td>\n",
       "      <td>0.069833</td>\n",
       "      <td>-0.183967</td>\n",
       "      <td>-0.090534</td>\n",
       "      <td>-0.066398</td>\n",
       "      <td>...</td>\n",
       "      <td>2.0</td>\n",
       "      <td>2.0</td>\n",
       "      <td>2564.0</td>\n",
       "      <td>9.0</td>\n",
       "      <td>0.0</td>\n",
       "      <td>6.0</td>\n",
       "      <td>6.0</td>\n",
       "      <td>44.0</td>\n",
       "      <td>12.0</td>\n",
       "      <td>25.0</td>\n",
       "    </tr>\n",
       "    <tr>\n",
       "      <th>4</th>\n",
       "      <td>-0.481499</td>\n",
       "      <td>-1.102133</td>\n",
       "      <td>0.967258</td>\n",
       "      <td>-0.281425</td>\n",
       "      <td>-2.368254</td>\n",
       "      <td>1.337649</td>\n",
       "      <td>0.069833</td>\n",
       "      <td>-0.183967</td>\n",
       "      <td>-0.098021</td>\n",
       "      <td>-0.092260</td>\n",
       "      <td>...</td>\n",
       "      <td>1.0</td>\n",
       "      <td>1.0</td>\n",
       "      <td>1663.0</td>\n",
       "      <td>4.0</td>\n",
       "      <td>0.0</td>\n",
       "      <td>6.0</td>\n",
       "      <td>6.0</td>\n",
       "      <td>16.0</td>\n",
       "      <td>12.0</td>\n",
       "      <td>1.0</td>\n",
       "    </tr>\n",
       "  </tbody>\n",
       "</table>\n",
       "<p>5 rows × 423 columns</p>\n",
       "</div>"
      ],
      "text/plain": [
       "   TransactionAmt     card1     card2     card3     card5     addr1     addr2  \\\n",
       "0       -0.150137  0.821695 -0.009783 -0.281425 -1.396380  0.243321  0.069833   \n",
       "1       -1.048357 -1.457558  0.264810 -0.281425 -2.368254  0.347543  0.069833   \n",
       "2       -0.308524 -1.068263  0.813997 -0.281425 -0.813255  0.399654  0.069833   \n",
       "3       -0.481499  1.679858  1.305711 -0.281425 -2.003802  1.921291  0.069833   \n",
       "4       -0.481499 -1.102133  0.967258 -0.281425 -2.368254  1.337649  0.069833   \n",
       "\n",
       "      dist1        C1        C2  ...  id_38  DeviceType  DeviceInfo  \\\n",
       "0 -0.138579 -0.098021 -0.092260  ...    2.0         2.0      2564.0   \n",
       "1 -0.183967 -0.098021 -0.092260  ...    2.0         2.0      2564.0   \n",
       "2  0.967241 -0.098021 -0.092260  ...    2.0         2.0      2564.0   \n",
       "3 -0.183967 -0.090534 -0.066398  ...    2.0         2.0      2564.0   \n",
       "4 -0.183967 -0.098021 -0.092260  ...    1.0         1.0      1663.0   \n",
       "\n",
       "   P_emaildomain_bin  P_emaildomain_suffix  R_emaildomain_bin  \\\n",
       "0                6.0                   6.0                6.0   \n",
       "1                4.0                   0.0                6.0   \n",
       "2                5.0                   0.0                6.0   \n",
       "3                9.0                   0.0                6.0   \n",
       "4                4.0                   0.0                6.0   \n",
       "\n",
       "   R_emaildomain_suffix  P_emaildomain_prefix  R_emaildomain_prefix  \\\n",
       "0                   6.0                  12.0                  12.0   \n",
       "1                   6.0                  16.0                  12.0   \n",
       "2                   6.0                  28.0                  12.0   \n",
       "3                   6.0                  44.0                  12.0   \n",
       "4                   6.0                  16.0                  12.0   \n",
       "\n",
       "   device_name  \n",
       "0         25.0  \n",
       "1         25.0  \n",
       "2         25.0  \n",
       "3         25.0  \n",
       "4          1.0  \n",
       "\n",
       "[5 rows x 423 columns]"
      ]
     },
     "execution_count": 52,
     "metadata": {},
     "output_type": "execute_result"
    }
   ],
   "source": [
    "X_train.head(5)"
   ]
  },
  {
   "cell_type": "code",
   "execution_count": 53,
   "metadata": {},
   "outputs": [
    {
     "data": {
      "text/html": [
       "<div>\n",
       "<style scoped>\n",
       "    .dataframe tbody tr th:only-of-type {\n",
       "        vertical-align: middle;\n",
       "    }\n",
       "\n",
       "    .dataframe tbody tr th {\n",
       "        vertical-align: top;\n",
       "    }\n",
       "\n",
       "    .dataframe thead th {\n",
       "        text-align: right;\n",
       "    }\n",
       "</style>\n",
       "<table border=\"1\" class=\"dataframe\">\n",
       "  <thead>\n",
       "    <tr style=\"text-align: right;\">\n",
       "      <th></th>\n",
       "      <th>TransactionAmt</th>\n",
       "      <th>card1</th>\n",
       "      <th>card2</th>\n",
       "      <th>card3</th>\n",
       "      <th>card5</th>\n",
       "      <th>addr1</th>\n",
       "      <th>addr2</th>\n",
       "      <th>dist1</th>\n",
       "      <th>C1</th>\n",
       "      <th>C2</th>\n",
       "      <th>...</th>\n",
       "      <th>id_38</th>\n",
       "      <th>DeviceType</th>\n",
       "      <th>DeviceInfo</th>\n",
       "      <th>P_emaildomain_bin</th>\n",
       "      <th>P_emaildomain_suffix</th>\n",
       "      <th>R_emaildomain_bin</th>\n",
       "      <th>R_emaildomain_suffix</th>\n",
       "      <th>P_emaildomain_prefix</th>\n",
       "      <th>R_emaildomain_prefix</th>\n",
       "      <th>device_name</th>\n",
       "    </tr>\n",
       "  </thead>\n",
       "  <tbody>\n",
       "    <tr>\n",
       "      <th>0</th>\n",
       "      <td>-0.948323</td>\n",
       "      <td>0.104111</td>\n",
       "      <td>-1.606256</td>\n",
       "      <td>-0.281425</td>\n",
       "      <td>0.644557</td>\n",
       "      <td>-1.267894</td>\n",
       "      <td>0.069833</td>\n",
       "      <td>-0.212850</td>\n",
       "      <td>-0.060587</td>\n",
       "      <td>-0.059933</td>\n",
       "      <td>...</td>\n",
       "      <td>2.0</td>\n",
       "      <td>2.0</td>\n",
       "      <td>2564.0</td>\n",
       "      <td>4.0</td>\n",
       "      <td>0.0</td>\n",
       "      <td>6.0</td>\n",
       "      <td>6.0</td>\n",
       "      <td>16.0</td>\n",
       "      <td>12.0</td>\n",
       "      <td>25.0</td>\n",
       "    </tr>\n",
       "    <tr>\n",
       "      <th>1</th>\n",
       "      <td>-0.502339</td>\n",
       "      <td>-1.148040</td>\n",
       "      <td>-1.606256</td>\n",
       "      <td>-0.281425</td>\n",
       "      <td>0.644557</td>\n",
       "      <td>0.076566</td>\n",
       "      <td>0.069833</td>\n",
       "      <td>-0.200471</td>\n",
       "      <td>-0.083048</td>\n",
       "      <td>-0.085795</td>\n",
       "      <td>...</td>\n",
       "      <td>2.0</td>\n",
       "      <td>2.0</td>\n",
       "      <td>2564.0</td>\n",
       "      <td>0.0</td>\n",
       "      <td>0.0</td>\n",
       "      <td>6.0</td>\n",
       "      <td>6.0</td>\n",
       "      <td>2.0</td>\n",
       "      <td>12.0</td>\n",
       "      <td>25.0</td>\n",
       "    </tr>\n",
       "    <tr>\n",
       "      <th>2</th>\n",
       "      <td>0.816855</td>\n",
       "      <td>-1.106417</td>\n",
       "      <td>1.350412</td>\n",
       "      <td>-0.281425</td>\n",
       "      <td>0.644557</td>\n",
       "      <td>1.879602</td>\n",
       "      <td>0.069833</td>\n",
       "      <td>10.659670</td>\n",
       "      <td>-0.090534</td>\n",
       "      <td>-0.085795</td>\n",
       "      <td>...</td>\n",
       "      <td>2.0</td>\n",
       "      <td>2.0</td>\n",
       "      <td>2564.0</td>\n",
       "      <td>5.0</td>\n",
       "      <td>0.0</td>\n",
       "      <td>6.0</td>\n",
       "      <td>6.0</td>\n",
       "      <td>18.0</td>\n",
       "      <td>12.0</td>\n",
       "      <td>25.0</td>\n",
       "    </tr>\n",
       "    <tr>\n",
       "      <th>3</th>\n",
       "      <td>1.358705</td>\n",
       "      <td>0.222450</td>\n",
       "      <td>-0.016169</td>\n",
       "      <td>-0.281425</td>\n",
       "      <td>-0.813255</td>\n",
       "      <td>-0.903118</td>\n",
       "      <td>0.069833</td>\n",
       "      <td>-0.146831</td>\n",
       "      <td>-0.068074</td>\n",
       "      <td>-0.085795</td>\n",
       "      <td>...</td>\n",
       "      <td>2.0</td>\n",
       "      <td>2.0</td>\n",
       "      <td>2564.0</td>\n",
       "      <td>4.0</td>\n",
       "      <td>0.0</td>\n",
       "      <td>6.0</td>\n",
       "      <td>6.0</td>\n",
       "      <td>16.0</td>\n",
       "      <td>12.0</td>\n",
       "      <td>25.0</td>\n",
       "    </tr>\n",
       "    <tr>\n",
       "      <th>4</th>\n",
       "      <td>-0.158473</td>\n",
       "      <td>1.656599</td>\n",
       "      <td>0.571333</td>\n",
       "      <td>-0.281425</td>\n",
       "      <td>-2.003802</td>\n",
       "      <td>-0.288210</td>\n",
       "      <td>0.069833</td>\n",
       "      <td>-0.192219</td>\n",
       "      <td>-0.060587</td>\n",
       "      <td>-0.059933</td>\n",
       "      <td>...</td>\n",
       "      <td>2.0</td>\n",
       "      <td>2.0</td>\n",
       "      <td>2564.0</td>\n",
       "      <td>4.0</td>\n",
       "      <td>0.0</td>\n",
       "      <td>6.0</td>\n",
       "      <td>6.0</td>\n",
       "      <td>16.0</td>\n",
       "      <td>12.0</td>\n",
       "      <td>25.0</td>\n",
       "    </tr>\n",
       "  </tbody>\n",
       "</table>\n",
       "<p>5 rows × 423 columns</p>\n",
       "</div>"
      ],
      "text/plain": [
       "   TransactionAmt     card1     card2     card3     card5     addr1     addr2  \\\n",
       "0       -0.948323  0.104111 -1.606256 -0.281425  0.644557 -1.267894  0.069833   \n",
       "1       -0.502339 -1.148040 -1.606256 -0.281425  0.644557  0.076566  0.069833   \n",
       "2        0.816855 -1.106417  1.350412 -0.281425  0.644557  1.879602  0.069833   \n",
       "3        1.358705  0.222450 -0.016169 -0.281425 -0.813255 -0.903118  0.069833   \n",
       "4       -0.158473  1.656599  0.571333 -0.281425 -2.003802 -0.288210  0.069833   \n",
       "\n",
       "       dist1        C1        C2  ...  id_38  DeviceType  DeviceInfo  \\\n",
       "0  -0.212850 -0.060587 -0.059933  ...    2.0         2.0      2564.0   \n",
       "1  -0.200471 -0.083048 -0.085795  ...    2.0         2.0      2564.0   \n",
       "2  10.659670 -0.090534 -0.085795  ...    2.0         2.0      2564.0   \n",
       "3  -0.146831 -0.068074 -0.085795  ...    2.0         2.0      2564.0   \n",
       "4  -0.192219 -0.060587 -0.059933  ...    2.0         2.0      2564.0   \n",
       "\n",
       "   P_emaildomain_bin  P_emaildomain_suffix  R_emaildomain_bin  \\\n",
       "0                4.0                   0.0                6.0   \n",
       "1                0.0                   0.0                6.0   \n",
       "2                5.0                   0.0                6.0   \n",
       "3                4.0                   0.0                6.0   \n",
       "4                4.0                   0.0                6.0   \n",
       "\n",
       "   R_emaildomain_suffix  P_emaildomain_prefix  R_emaildomain_prefix  \\\n",
       "0                   6.0                  16.0                  12.0   \n",
       "1                   6.0                   2.0                  12.0   \n",
       "2                   6.0                  18.0                  12.0   \n",
       "3                   6.0                  16.0                  12.0   \n",
       "4                   6.0                  16.0                  12.0   \n",
       "\n",
       "   device_name  \n",
       "0         25.0  \n",
       "1         25.0  \n",
       "2         25.0  \n",
       "3         25.0  \n",
       "4         25.0  \n",
       "\n",
       "[5 rows x 423 columns]"
      ]
     },
     "execution_count": 53,
     "metadata": {},
     "output_type": "execute_result"
    }
   ],
   "source": [
    "X_test.head(5)"
   ]
  },
  {
   "cell_type": "code",
   "execution_count": null,
   "metadata": {},
   "outputs": [],
   "source": []
  },
  {
   "cell_type": "markdown",
   "metadata": {},
   "source": [
    "### train models"
   ]
  },
  {
   "cell_type": "code",
   "execution_count": 54,
   "metadata": {},
   "outputs": [],
   "source": [
    "TARGET = 'isFraud'\n",
    "SEED = 42"
   ]
  },
  {
   "cell_type": "code",
   "execution_count": 55,
   "metadata": {},
   "outputs": [],
   "source": [
    "lgb_params = {\n",
    "    'objective':'binary',\n",
    "    'boosting_type':'gbdt',\n",
    "    'metric':'auc',\n",
    "    'learning_rate':0.01,\n",
    "    'num_leaves': 2**8,\n",
    "    'max_depth':-1,\n",
    "    'tree_learner':'serial',\n",
    "    'colsample_bytree': 0.7,\n",
    "    'subsample_freq':1,\n",
    "    'subsample':0.7,\n",
    "    'max_bin':255,\n",
    "    'verbose':-1,\n",
    "} "
   ]
  },
  {
   "cell_type": "code",
   "execution_count": 56,
   "metadata": {},
   "outputs": [
    {
     "name": "stdout",
     "output_type": "stream",
     "text": [
      "Fold 1 started at Tue Sep 10 00:06:09 2019\n",
      "Training until validation scores don't improve for 500 rounds.\n",
      "[500]\ttraining's auc: 0.991908\ttraining's auc: 0.991908\tvalid_1's auc: 0.964599\tvalid_1's auc: 0.964599\n",
      "[1000]\ttraining's auc: 0.999014\ttraining's auc: 0.999014\tvalid_1's auc: 0.973362\tvalid_1's auc: 0.973362\n",
      "[1500]\ttraining's auc: 0.999881\ttraining's auc: 0.999881\tvalid_1's auc: 0.976319\tvalid_1's auc: 0.976319\n",
      "[2000]\ttraining's auc: 0.999989\ttraining's auc: 0.999989\tvalid_1's auc: 0.977649\tvalid_1's auc: 0.977649\n",
      "[2500]\ttraining's auc: 0.999999\ttraining's auc: 0.999999\tvalid_1's auc: 0.978435\tvalid_1's auc: 0.978435\n",
      "[3000]\ttraining's auc: 1\ttraining's auc: 1\tvalid_1's auc: 0.978845\tvalid_1's auc: 0.978845\n",
      "[3500]\ttraining's auc: 1\ttraining's auc: 1\tvalid_1's auc: 0.979157\tvalid_1's auc: 0.979157\n",
      "[4000]\ttraining's auc: 1\ttraining's auc: 1\tvalid_1's auc: 0.979085\tvalid_1's auc: 0.979085\n",
      "Early stopping, best iteration is:\n",
      "[3705]\ttraining's auc: 1\ttraining's auc: 1\tvalid_1's auc: 0.979228\tvalid_1's auc: 0.979228\n",
      "Fold 2 started at Tue Sep 10 00:43:54 2019\n",
      "Training until validation scores don't improve for 500 rounds.\n",
      "[500]\ttraining's auc: 0.991781\ttraining's auc: 0.991781\tvalid_1's auc: 0.963714\tvalid_1's auc: 0.963714\n",
      "[1000]\ttraining's auc: 0.998946\ttraining's auc: 0.998946\tvalid_1's auc: 0.972873\tvalid_1's auc: 0.972873\n",
      "[1500]\ttraining's auc: 0.999863\ttraining's auc: 0.999863\tvalid_1's auc: 0.975823\tvalid_1's auc: 0.975823\n",
      "[2000]\ttraining's auc: 0.999987\ttraining's auc: 0.999987\tvalid_1's auc: 0.977262\tvalid_1's auc: 0.977262\n",
      "[2500]\ttraining's auc: 0.999999\ttraining's auc: 0.999999\tvalid_1's auc: 0.977987\tvalid_1's auc: 0.977987\n",
      "[3000]\ttraining's auc: 1\ttraining's auc: 1\tvalid_1's auc: 0.978502\tvalid_1's auc: 0.978502\n",
      "[3500]\ttraining's auc: 1\ttraining's auc: 1\tvalid_1's auc: 0.978699\tvalid_1's auc: 0.978699\n",
      "[4000]\ttraining's auc: 1\ttraining's auc: 1\tvalid_1's auc: 0.978708\tvalid_1's auc: 0.978708\n",
      "Early stopping, best iteration is:\n",
      "[3543]\ttraining's auc: 1\ttraining's auc: 1\tvalid_1's auc: 0.97869\tvalid_1's auc: 0.97869\n",
      "Fold 3 started at Tue Sep 10 01:19:55 2019\n",
      "Training until validation scores don't improve for 500 rounds.\n",
      "[500]\ttraining's auc: 0.991949\ttraining's auc: 0.991949\tvalid_1's auc: 0.963839\tvalid_1's auc: 0.963839\n",
      "[1000]\ttraining's auc: 0.998979\ttraining's auc: 0.998979\tvalid_1's auc: 0.972358\tvalid_1's auc: 0.972358\n",
      "[1500]\ttraining's auc: 0.999859\ttraining's auc: 0.999859\tvalid_1's auc: 0.974995\tvalid_1's auc: 0.974995\n",
      "[2000]\ttraining's auc: 0.999985\ttraining's auc: 0.999985\tvalid_1's auc: 0.976292\tvalid_1's auc: 0.976292\n",
      "[2500]\ttraining's auc: 0.999999\ttraining's auc: 0.999999\tvalid_1's auc: 0.976846\tvalid_1's auc: 0.976846\n",
      "[3000]\ttraining's auc: 1\ttraining's auc: 1\tvalid_1's auc: 0.977225\tvalid_1's auc: 0.977225\n",
      "[3500]\ttraining's auc: 1\ttraining's auc: 1\tvalid_1's auc: 0.977328\tvalid_1's auc: 0.977328\n",
      "Early stopping, best iteration is:\n",
      "[3337]\ttraining's auc: 1\ttraining's auc: 1\tvalid_1's auc: 0.977362\tvalid_1's auc: 0.977362\n",
      "Fold 4 started at Tue Sep 10 01:56:56 2019\n",
      "Training until validation scores don't improve for 500 rounds.\n",
      "[500]\ttraining's auc: 0.991899\ttraining's auc: 0.991899\tvalid_1's auc: 0.961155\tvalid_1's auc: 0.961155\n",
      "[1000]\ttraining's auc: 0.998998\ttraining's auc: 0.998998\tvalid_1's auc: 0.97016\tvalid_1's auc: 0.97016\n",
      "[1500]\ttraining's auc: 0.999864\ttraining's auc: 0.999864\tvalid_1's auc: 0.972786\tvalid_1's auc: 0.972786\n",
      "[2000]\ttraining's auc: 0.999989\ttraining's auc: 0.999989\tvalid_1's auc: 0.973872\tvalid_1's auc: 0.973872\n",
      "[2500]\ttraining's auc: 0.999999\ttraining's auc: 0.999999\tvalid_1's auc: 0.97435\tvalid_1's auc: 0.97435\n",
      "[3000]\ttraining's auc: 1\ttraining's auc: 1\tvalid_1's auc: 0.974557\tvalid_1's auc: 0.974557\n",
      "[3500]\ttraining's auc: 1\ttraining's auc: 1\tvalid_1's auc: 0.974751\tvalid_1's auc: 0.974751\n",
      "Early stopping, best iteration is:\n",
      "[3292]\ttraining's auc: 1\ttraining's auc: 1\tvalid_1's auc: 0.97466\tvalid_1's auc: 0.97466\n",
      "Fold 5 started at Tue Sep 10 02:30:27 2019\n",
      "Training until validation scores don't improve for 500 rounds.\n",
      "[500]\ttraining's auc: 0.991953\ttraining's auc: 0.991953\tvalid_1's auc: 0.959268\tvalid_1's auc: 0.959268\n",
      "[1000]\ttraining's auc: 0.998999\ttraining's auc: 0.998999\tvalid_1's auc: 0.968971\tvalid_1's auc: 0.968971\n",
      "[1500]\ttraining's auc: 0.999869\ttraining's auc: 0.999869\tvalid_1's auc: 0.97234\tvalid_1's auc: 0.97234\n",
      "[2000]\ttraining's auc: 0.999988\ttraining's auc: 0.999988\tvalid_1's auc: 0.974086\tvalid_1's auc: 0.974086\n",
      "[2500]\ttraining's auc: 0.999999\ttraining's auc: 0.999999\tvalid_1's auc: 0.97492\tvalid_1's auc: 0.97492\n",
      "[3000]\ttraining's auc: 1\ttraining's auc: 1\tvalid_1's auc: 0.975462\tvalid_1's auc: 0.975462\n",
      "[3500]\ttraining's auc: 1\ttraining's auc: 1\tvalid_1's auc: 0.975785\tvalid_1's auc: 0.975785\n",
      "[4000]\ttraining's auc: 1\ttraining's auc: 1\tvalid_1's auc: 0.975793\tvalid_1's auc: 0.975793\n",
      "Early stopping, best iteration is:\n",
      "[3716]\ttraining's auc: 1\ttraining's auc: 1\tvalid_1's auc: 0.975875\tvalid_1's auc: 0.975875\n",
      "CV mean score: 0.9772, std: 0.0017.\n"
     ]
    },
    {
     "name": "stderr",
     "output_type": "stream",
     "text": [
      "/usr/local/lib/python3.5/dist-packages/scipy/stats/stats.py:1706: FutureWarning: Using a non-tuple sequence for multidimensional indexing is deprecated; use `arr[tuple(seq)]` instead of `arr[seq]`. In the future this will be interpreted as an array index, `arr[np.array(seq)]`, which will result either in an error or a different result.\n",
      "  return np.add.reduce(sorted[indexer] * weights, axis=axis) / sumval\n"
     ]
    },
    {
     "data": {
      "image/png": "[encoded data removed]",
      "text/plain": [
       "<matplotlib.figure.Figure at 0x7fa4ecde0198>"
      ]
     },
     "metadata": {},
     "output_type": "display_data"
    }
   ],
   "source": [
    "result_dict_lgb, lgb_model = train_model_classification(\n",
    "    X=X_train,\n",
    "    X_test=X_test,\n",
    "    y=train_df['isFraud'],\n",
    "    params=lgb_params,\n",
    "    folds=KFold(n_splits=5, shuffle=True, random_state=SEED),\n",
    "    model_type='lgb',    \n",
    "    eval_metric='auc',\n",
    "    plot_feature_importance=True,\n",
    "    verbose=500,\n",
    "    early_stopping_rounds=500,\n",
    "    n_estimators=5000,\n",
    "    averaging='usual',\n",
    "    n_jobs=-1)"
   ]
  },
  {
   "cell_type": "code",
   "execution_count": 57,
   "metadata": {},
   "outputs": [],
   "source": [
    "xgb_params = {\n",
    "    'eta': 0.04,\n",
    "    'max_depth': 5,\n",
    "    'subsample': 0.85,\n",
    "    'objective': 'binary:logistic',\n",
    "    'eval_metric': 'auc',\n",
    "    'silent': True,\n",
    "    'nthread': -1,\n",
    "    'averaging': 'usual',\n",
    "    'tree_method': 'gpu_hist'\n",
    "}"
   ]
  },
  {
   "cell_type": "code",
   "execution_count": 58,
   "metadata": {},
   "outputs": [
    {
     "name": "stdout",
     "output_type": "stream",
     "text": [
      "Fold 1 started at Tue Sep 10 03:08:43 2019\n",
      "[0]\ttrain-auc:0.769787\tvalid_data-auc:0.772506\n",
      "Multiple eval metrics have been passed: 'valid_data-auc' will be used for early stopping.\n",
      "\n",
      "Will train until valid_data-auc hasn't improved in 500 rounds.\n",
      "[500]\ttrain-auc:0.940315\tvalid_data-auc:0.931352\n",
      "[1000]\ttrain-auc:0.96021\tvalid_data-auc:0.947423\n",
      "[1500]\ttrain-auc:0.972549\tvalid_data-auc:0.95643\n",
      "[2000]\ttrain-auc:0.980807\tvalid_data-auc:0.96156\n",
      "[2500]\ttrain-auc:0.986021\tvalid_data-auc:0.96516\n",
      "[3000]\ttrain-auc:0.989787\tvalid_data-auc:0.967717\n",
      "[3500]\ttrain-auc:0.992459\tvalid_data-auc:0.969834\n",
      "[4000]\ttrain-auc:0.994323\tvalid_data-auc:0.971408\n",
      "[4500]\ttrain-auc:0.995743\tvalid_data-auc:0.972603\n",
      "[4999]\ttrain-auc:0.996767\tvalid_data-auc:0.973479\n",
      "Fold 2 started at Tue Sep 10 03:18:31 2019\n",
      "[0]\ttrain-auc:0.769686\tvalid_data-auc:0.773118\n",
      "Multiple eval metrics have been passed: 'valid_data-auc' will be used for early stopping.\n",
      "\n",
      "Will train until valid_data-auc hasn't improved in 500 rounds.\n",
      "[500]\ttrain-auc:0.941167\tvalid_data-auc:0.930908\n",
      "[1000]\ttrain-auc:0.961232\tvalid_data-auc:0.947029\n",
      "[1500]\ttrain-auc:0.972562\tvalid_data-auc:0.955347\n",
      "[2000]\ttrain-auc:0.980119\tvalid_data-auc:0.960946\n",
      "[2500]\ttrain-auc:0.985418\tvalid_data-auc:0.964691\n",
      "[3000]\ttrain-auc:0.989416\tvalid_data-auc:0.967676\n",
      "[3500]\ttrain-auc:0.992199\tvalid_data-auc:0.969974\n",
      "[4000]\ttrain-auc:0.994249\tvalid_data-auc:0.971574\n",
      "[4500]\ttrain-auc:0.995656\tvalid_data-auc:0.972663\n",
      "[4999]\ttrain-auc:0.996703\tvalid_data-auc:0.973481\n",
      "Fold 3 started at Tue Sep 10 03:29:25 2019\n",
      "[0]\ttrain-auc:0.769671\tvalid_data-auc:0.773084\n",
      "Multiple eval metrics have been passed: 'valid_data-auc' will be used for early stopping.\n",
      "\n",
      "Will train until valid_data-auc hasn't improved in 500 rounds.\n",
      "[500]\ttrain-auc:0.940901\tvalid_data-auc:0.932865\n",
      "[1000]\ttrain-auc:0.961233\tvalid_data-auc:0.947448\n",
      "[1500]\ttrain-auc:0.973094\tvalid_data-auc:0.955366\n",
      "[2000]\ttrain-auc:0.980854\tvalid_data-auc:0.960275\n",
      "[2500]\ttrain-auc:0.986185\tvalid_data-auc:0.963819\n",
      "[3000]\ttrain-auc:0.989701\tvalid_data-auc:0.966462\n",
      "[3500]\ttrain-auc:0.992355\tvalid_data-auc:0.968302\n",
      "[4000]\ttrain-auc:0.994329\tvalid_data-auc:0.969667\n",
      "[4500]\ttrain-auc:0.995771\tvalid_data-auc:0.970889\n",
      "[4999]\ttrain-auc:0.996782\tvalid_data-auc:0.971891\n",
      "Fold 4 started at Tue Sep 10 03:43:57 2019\n",
      "[0]\ttrain-auc:0.77183\tvalid_data-auc:0.764667\n",
      "Multiple eval metrics have been passed: 'valid_data-auc' will be used for early stopping.\n",
      "\n",
      "Will train until valid_data-auc hasn't improved in 500 rounds.\n",
      "[500]\ttrain-auc:0.940201\tvalid_data-auc:0.924889\n",
      "[1000]\ttrain-auc:0.961063\tvalid_data-auc:0.941756\n",
      "[1500]\ttrain-auc:0.973572\tvalid_data-auc:0.951071\n",
      "[2000]\ttrain-auc:0.981278\tvalid_data-auc:0.956902\n",
      "[2500]\ttrain-auc:0.986468\tvalid_data-auc:0.960576\n",
      "[3000]\ttrain-auc:0.990046\tvalid_data-auc:0.963313\n",
      "[3500]\ttrain-auc:0.992656\tvalid_data-auc:0.965365\n",
      "[4000]\ttrain-auc:0.99455\tvalid_data-auc:0.967052\n",
      "[4500]\ttrain-auc:0.995945\tvalid_data-auc:0.968015\n",
      "[4999]\ttrain-auc:0.996991\tvalid_data-auc:0.968915\n",
      "Fold 5 started at Tue Sep 10 03:54:44 2019\n",
      "[0]\ttrain-auc:0.767942\tvalid_data-auc:0.761593\n",
      "Multiple eval metrics have been passed: 'valid_data-auc' will be used for early stopping.\n",
      "\n",
      "Will train until valid_data-auc hasn't improved in 500 rounds.\n",
      "[500]\ttrain-auc:0.941226\tvalid_data-auc:0.925493\n",
      "[1000]\ttrain-auc:0.960693\tvalid_data-auc:0.941404\n",
      "[1500]\ttrain-auc:0.972085\tvalid_data-auc:0.950273\n",
      "[2000]\ttrain-auc:0.980186\tvalid_data-auc:0.95618\n",
      "[2500]\ttrain-auc:0.985567\tvalid_data-auc:0.960577\n",
      "[3000]\ttrain-auc:0.989519\tvalid_data-auc:0.963904\n",
      "[3500]\ttrain-auc:0.992115\tvalid_data-auc:0.965996\n",
      "[4000]\ttrain-auc:0.994091\tvalid_data-auc:0.96768\n",
      "[4500]\ttrain-auc:0.995618\tvalid_data-auc:0.969025\n",
      "[4999]\ttrain-auc:0.996651\tvalid_data-auc:0.97004\n",
      "CV mean score: 0.9716, std: 0.0018.\n"
     ]
    }
   ],
   "source": [
    "result_dict_xgb, xgb_model = train_model_classification(\n",
    "    X=X_train,\n",
    "    X_test=X_test,\n",
    "    y=train_df['isFraud'],\n",
    "    params=xgb_params,\n",
    "    folds=KFold(n_splits=5, shuffle=True, random_state=SEED),\n",
    "    model_type='xgb',\n",
    "    eval_metric='auc',\n",
    "    plot_feature_importance=True,\n",
    "    verbose=500,\n",
    "    early_stopping_rounds=500,\n",
    "    n_estimators=5000)"
   ]
  },
  {
   "cell_type": "markdown",
   "metadata": {},
   "source": [
    "### write submission.csv"
   ]
  },
  {
   "cell_type": "code",
   "execution_count": 103,
   "metadata": {},
   "outputs": [],
   "source": [
    "test_df['isFraud'] = (result_dict_xgb['prediction'] + result_dict_lgb['prediction'])/2"
   ]
  },
  {
   "cell_type": "code",
   "execution_count": 104,
   "metadata": {},
   "outputs": [],
   "source": [
    "test_df = test_df['isFraud'].reset_index()"
   ]
  },
  {
   "cell_type": "code",
   "execution_count": 110,
   "metadata": {},
   "outputs": [
    {
     "data": {
      "text/html": [
       "<div>\n",
       "<style scoped>\n",
       "    .dataframe tbody tr th:only-of-type {\n",
       "        vertical-align: middle;\n",
       "    }\n",
       "\n",
       "    .dataframe tbody tr th {\n",
       "        vertical-align: top;\n",
       "    }\n",
       "\n",
       "    .dataframe thead th {\n",
       "        text-align: right;\n",
       "    }\n",
       "</style>\n",
       "<table border=\"1\" class=\"dataframe\">\n",
       "  <thead>\n",
       "    <tr style=\"text-align: right;\">\n",
       "      <th></th>\n",
       "      <th>TransactionID</th>\n",
       "      <th>isFraud</th>\n",
       "    </tr>\n",
       "  </thead>\n",
       "  <tbody>\n",
       "    <tr>\n",
       "      <th>0</th>\n",
       "      <td>3663549</td>\n",
       "      <td>0.000694</td>\n",
       "    </tr>\n",
       "    <tr>\n",
       "      <th>1</th>\n",
       "      <td>3663550</td>\n",
       "      <td>0.000339</td>\n",
       "    </tr>\n",
       "    <tr>\n",
       "      <th>2</th>\n",
       "      <td>3663551</td>\n",
       "      <td>0.000039</td>\n",
       "    </tr>\n",
       "    <tr>\n",
       "      <th>3</th>\n",
       "      <td>3663552</td>\n",
       "      <td>0.000196</td>\n",
       "    </tr>\n",
       "    <tr>\n",
       "      <th>4</th>\n",
       "      <td>3663553</td>\n",
       "      <td>0.000238</td>\n",
       "    </tr>\n",
       "  </tbody>\n",
       "</table>\n",
       "</div>"
      ],
      "text/plain": [
       "   TransactionID   isFraud\n",
       "0        3663549  0.000694\n",
       "1        3663550  0.000339\n",
       "2        3663551  0.000039\n",
       "3        3663552  0.000196\n",
       "4        3663553  0.000238"
      ]
     },
     "execution_count": 110,
     "metadata": {},
     "output_type": "execute_result"
    }
   ],
   "source": [
    "test_df.head(5)"
   ]
  },
  {
   "cell_type": "code",
   "execution_count": 106,
   "metadata": {},
   "outputs": [
    {
     "data": {
      "text/plain": [
       "'5254'"
      ]
     },
     "execution_count": 106,
     "metadata": {},
     "output_type": "execute_result"
    }
   ],
   "source": [
    "import numpy as np\n",
    "randidx = str(np.random.randint(0, 10000)).zfill(4)\n",
    "randidx"
   ]
  },
  {
   "cell_type": "code",
   "execution_count": 107,
   "metadata": {},
   "outputs": [
    {
     "data": {
      "text/plain": [
       "'submission_5254.csv'"
      ]
     },
     "execution_count": 107,
     "metadata": {},
     "output_type": "execute_result"
    }
   ],
   "source": [
    "output_filename = 'submission_{}.csv'.format(randidx)\n",
    "output_filename"
   ]
  },
  {
   "cell_type": "code",
   "execution_count": 109,
   "metadata": {},
   "outputs": [],
   "source": [
    "test_df.to_csv(output_filename, index=False, encoding='utf8')"
   ]
  },
  {
   "cell_type": "code",
   "execution_count": null,
   "metadata": {},
   "outputs": [],
   "source": []
  }
 ],
 "metadata": {
  "kernelspec": {
   "display_name": "Python 3",
   "language": "python",
   "name": "python3"
  },
  "language_info": {
   "codemirror_mode": {
    "name": "ipython",
    "version": 3
   },
   "file_extension": ".py",
   "mimetype": "text/x-python",
   "name": "python",
   "nbconvert_exporter": "python",
   "pygments_lexer": "ipython3",
   "version": "3.5.2"
  }
 },
 "nbformat": 4,
 "nbformat_minor": 2
}
